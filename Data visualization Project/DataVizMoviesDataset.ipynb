{
 "cells": [
  {
   "cell_type": "markdown",
   "metadata": {
    "slideshow": {
     "slide_type": "notes"
    }
   },
   "source": [
    "**I put comments after some graphs (findings), those graphs are in the presentation, otherwise, all findings comments are before it**"
   ]
  },
  {
   "cell_type": "markdown",
   "metadata": {
    "slideshow": {
     "slide_type": "slide"
    }
   },
   "source": [
    "# Movies Dataset \n",
    "**You find Dataset that I used in this [Link](https://www.kaggle.com/rounakbanik/the-movies-dataset?select=movies_metadata.csv), I used Movies meta data file**"
   ]
  },
  {
   "cell_type": "markdown",
   "metadata": {
    "slideshow": {
     "slide_type": "slide"
    }
   },
   "source": [
    "# Dataset Overview\n",
    "       Movies Dataset consist of 24 columns and 45466 rows but I worked with 17 column only and I end up working with 31K rows, then I worked with more than 20K rows with genres (Drama, Action, Comedy, Horror), At the end I worked with Arabic movies only for my interest but it's a pretty small subset but it was so exciting to me."
   ]
  },
  {
   "cell_type": "markdown",
   "metadata": {
    "slideshow": {
     "slide_type": "slide"
    }
   },
   "source": [
    "\n",
    "## Dataset Question:\n",
    "- What are the most correlated features?\n",
    "- What is the most frequent language?\n",
    "- What is the most frequent status of Movies?\n",
    "- What are the features distributions?\n",
    "- Is there a correlation between revenue and budget and profit?\n",
    "- What is the trend of budget, revenue and profit?\n",
    "- What is the most productive country to movies?\n",
    "- What is the top 10 countries with production companies?\n",
    "- What is the genre of movies with the highest median vote average, and in which status?\n",
    "\n",
    "### Arabic Movies Questions:\n",
    "- What is the highest vote average in Arabic movies, What is its genre?\n",
    "- What is the highest vote count in Arabic movies, What is its genre?\n"
   ]
  },
  {
   "cell_type": "code",
   "execution_count": 1,
   "metadata": {
    "slideshow": {
     "slide_type": "skip"
    }
   },
   "outputs": [],
   "source": [
    "import nbconvert"
   ]
  },
  {
   "cell_type": "code",
   "execution_count": 2,
   "metadata": {
    "slideshow": {
     "slide_type": "skip"
    }
   },
   "outputs": [],
   "source": [
    "import dexplot as dxp"
   ]
  },
  {
   "cell_type": "code",
   "execution_count": 3,
   "metadata": {
    "slideshow": {
     "slide_type": "skip"
    }
   },
   "outputs": [],
   "source": [
    "import numpy as np \n",
    "import pandas as pd \n",
    "import matplotlib.pyplot as plt \n",
    "import seaborn as sns\n",
    "\n",
    "%matplotlib inline\n"
   ]
  },
  {
   "cell_type": "code",
   "execution_count": 4,
   "metadata": {
    "slideshow": {
     "slide_type": "skip"
    }
   },
   "outputs": [
    {
     "name": "stderr",
     "output_type": "stream",
     "text": [
      "C:\\Users\\User\\Anaconda3\\lib\\site-packages\\IPython\\core\\interactiveshell.py:3072: DtypeWarning: Columns (10) have mixed types.Specify dtype option on import or set low_memory=False.\n",
      "  interactivity=interactivity, compiler=compiler, result=result)\n"
     ]
    },
    {
     "data": {
      "text/html": [
       "<div>\n",
       "<style scoped>\n",
       "    .dataframe tbody tr th:only-of-type {\n",
       "        vertical-align: middle;\n",
       "    }\n",
       "\n",
       "    .dataframe tbody tr th {\n",
       "        vertical-align: top;\n",
       "    }\n",
       "\n",
       "    .dataframe thead th {\n",
       "        text-align: right;\n",
       "    }\n",
       "</style>\n",
       "<table border=\"1\" class=\"dataframe\">\n",
       "  <thead>\n",
       "    <tr style=\"text-align: right;\">\n",
       "      <th></th>\n",
       "      <th>adult</th>\n",
       "      <th>belongs_to_collection</th>\n",
       "      <th>budget</th>\n",
       "      <th>genres</th>\n",
       "      <th>homepage</th>\n",
       "      <th>id</th>\n",
       "      <th>imdb_id</th>\n",
       "      <th>original_language</th>\n",
       "      <th>original_title</th>\n",
       "      <th>overview</th>\n",
       "      <th>...</th>\n",
       "      <th>release_date</th>\n",
       "      <th>revenue</th>\n",
       "      <th>runtime</th>\n",
       "      <th>spoken_languages</th>\n",
       "      <th>status</th>\n",
       "      <th>tagline</th>\n",
       "      <th>title</th>\n",
       "      <th>video</th>\n",
       "      <th>vote_average</th>\n",
       "      <th>vote_count</th>\n",
       "    </tr>\n",
       "  </thead>\n",
       "  <tbody>\n",
       "    <tr>\n",
       "      <th>0</th>\n",
       "      <td>False</td>\n",
       "      <td>{'id': 10194, 'name': 'Toy Story Collection', ...</td>\n",
       "      <td>30000000</td>\n",
       "      <td>[{'id': 16, 'name': 'Animation'}, {'id': 35, '...</td>\n",
       "      <td>http://toystory.disney.com/toy-story</td>\n",
       "      <td>862</td>\n",
       "      <td>tt0114709</td>\n",
       "      <td>en</td>\n",
       "      <td>Toy Story</td>\n",
       "      <td>Led by Woody, Andy's toys live happily in his ...</td>\n",
       "      <td>...</td>\n",
       "      <td>1995-10-30</td>\n",
       "      <td>373554033.0</td>\n",
       "      <td>81.0</td>\n",
       "      <td>[{'iso_639_1': 'en', 'name': 'English'}]</td>\n",
       "      <td>Released</td>\n",
       "      <td>NaN</td>\n",
       "      <td>Toy Story</td>\n",
       "      <td>False</td>\n",
       "      <td>7.7</td>\n",
       "      <td>5415.0</td>\n",
       "    </tr>\n",
       "    <tr>\n",
       "      <th>1</th>\n",
       "      <td>False</td>\n",
       "      <td>NaN</td>\n",
       "      <td>65000000</td>\n",
       "      <td>[{'id': 12, 'name': 'Adventure'}, {'id': 14, '...</td>\n",
       "      <td>NaN</td>\n",
       "      <td>8844</td>\n",
       "      <td>tt0113497</td>\n",
       "      <td>en</td>\n",
       "      <td>Jumanji</td>\n",
       "      <td>When siblings Judy and Peter discover an encha...</td>\n",
       "      <td>...</td>\n",
       "      <td>1995-12-15</td>\n",
       "      <td>262797249.0</td>\n",
       "      <td>104.0</td>\n",
       "      <td>[{'iso_639_1': 'en', 'name': 'English'}, {'iso...</td>\n",
       "      <td>Released</td>\n",
       "      <td>Roll the dice and unleash the excitement!</td>\n",
       "      <td>Jumanji</td>\n",
       "      <td>False</td>\n",
       "      <td>6.9</td>\n",
       "      <td>2413.0</td>\n",
       "    </tr>\n",
       "    <tr>\n",
       "      <th>2</th>\n",
       "      <td>False</td>\n",
       "      <td>{'id': 119050, 'name': 'Grumpy Old Men Collect...</td>\n",
       "      <td>0</td>\n",
       "      <td>[{'id': 10749, 'name': 'Romance'}, {'id': 35, ...</td>\n",
       "      <td>NaN</td>\n",
       "      <td>15602</td>\n",
       "      <td>tt0113228</td>\n",
       "      <td>en</td>\n",
       "      <td>Grumpier Old Men</td>\n",
       "      <td>A family wedding reignites the ancient feud be...</td>\n",
       "      <td>...</td>\n",
       "      <td>1995-12-22</td>\n",
       "      <td>0.0</td>\n",
       "      <td>101.0</td>\n",
       "      <td>[{'iso_639_1': 'en', 'name': 'English'}]</td>\n",
       "      <td>Released</td>\n",
       "      <td>Still Yelling. Still Fighting. Still Ready for...</td>\n",
       "      <td>Grumpier Old Men</td>\n",
       "      <td>False</td>\n",
       "      <td>6.5</td>\n",
       "      <td>92.0</td>\n",
       "    </tr>\n",
       "    <tr>\n",
       "      <th>3</th>\n",
       "      <td>False</td>\n",
       "      <td>NaN</td>\n",
       "      <td>16000000</td>\n",
       "      <td>[{'id': 35, 'name': 'Comedy'}, {'id': 18, 'nam...</td>\n",
       "      <td>NaN</td>\n",
       "      <td>31357</td>\n",
       "      <td>tt0114885</td>\n",
       "      <td>en</td>\n",
       "      <td>Waiting to Exhale</td>\n",
       "      <td>Cheated on, mistreated and stepped on, the wom...</td>\n",
       "      <td>...</td>\n",
       "      <td>1995-12-22</td>\n",
       "      <td>81452156.0</td>\n",
       "      <td>127.0</td>\n",
       "      <td>[{'iso_639_1': 'en', 'name': 'English'}]</td>\n",
       "      <td>Released</td>\n",
       "      <td>Friends are the people who let you be yourself...</td>\n",
       "      <td>Waiting to Exhale</td>\n",
       "      <td>False</td>\n",
       "      <td>6.1</td>\n",
       "      <td>34.0</td>\n",
       "    </tr>\n",
       "    <tr>\n",
       "      <th>4</th>\n",
       "      <td>False</td>\n",
       "      <td>{'id': 96871, 'name': 'Father of the Bride Col...</td>\n",
       "      <td>0</td>\n",
       "      <td>[{'id': 35, 'name': 'Comedy'}]</td>\n",
       "      <td>NaN</td>\n",
       "      <td>11862</td>\n",
       "      <td>tt0113041</td>\n",
       "      <td>en</td>\n",
       "      <td>Father of the Bride Part II</td>\n",
       "      <td>Just when George Banks has recovered from his ...</td>\n",
       "      <td>...</td>\n",
       "      <td>1995-02-10</td>\n",
       "      <td>76578911.0</td>\n",
       "      <td>106.0</td>\n",
       "      <td>[{'iso_639_1': 'en', 'name': 'English'}]</td>\n",
       "      <td>Released</td>\n",
       "      <td>Just When His World Is Back To Normal... He's ...</td>\n",
       "      <td>Father of the Bride Part II</td>\n",
       "      <td>False</td>\n",
       "      <td>5.7</td>\n",
       "      <td>173.0</td>\n",
       "    </tr>\n",
       "  </tbody>\n",
       "</table>\n",
       "<p>5 rows × 24 columns</p>\n",
       "</div>"
      ],
      "text/plain": [
       "   adult                              belongs_to_collection    budget  \\\n",
       "0  False  {'id': 10194, 'name': 'Toy Story Collection', ...  30000000   \n",
       "1  False                                                NaN  65000000   \n",
       "2  False  {'id': 119050, 'name': 'Grumpy Old Men Collect...         0   \n",
       "3  False                                                NaN  16000000   \n",
       "4  False  {'id': 96871, 'name': 'Father of the Bride Col...         0   \n",
       "\n",
       "                                              genres  \\\n",
       "0  [{'id': 16, 'name': 'Animation'}, {'id': 35, '...   \n",
       "1  [{'id': 12, 'name': 'Adventure'}, {'id': 14, '...   \n",
       "2  [{'id': 10749, 'name': 'Romance'}, {'id': 35, ...   \n",
       "3  [{'id': 35, 'name': 'Comedy'}, {'id': 18, 'nam...   \n",
       "4                     [{'id': 35, 'name': 'Comedy'}]   \n",
       "\n",
       "                               homepage     id    imdb_id original_language  \\\n",
       "0  http://toystory.disney.com/toy-story    862  tt0114709                en   \n",
       "1                                   NaN   8844  tt0113497                en   \n",
       "2                                   NaN  15602  tt0113228                en   \n",
       "3                                   NaN  31357  tt0114885                en   \n",
       "4                                   NaN  11862  tt0113041                en   \n",
       "\n",
       "                original_title  \\\n",
       "0                    Toy Story   \n",
       "1                      Jumanji   \n",
       "2             Grumpier Old Men   \n",
       "3            Waiting to Exhale   \n",
       "4  Father of the Bride Part II   \n",
       "\n",
       "                                            overview  ... release_date  \\\n",
       "0  Led by Woody, Andy's toys live happily in his ...  ...   1995-10-30   \n",
       "1  When siblings Judy and Peter discover an encha...  ...   1995-12-15   \n",
       "2  A family wedding reignites the ancient feud be...  ...   1995-12-22   \n",
       "3  Cheated on, mistreated and stepped on, the wom...  ...   1995-12-22   \n",
       "4  Just when George Banks has recovered from his ...  ...   1995-02-10   \n",
       "\n",
       "       revenue runtime                                   spoken_languages  \\\n",
       "0  373554033.0    81.0           [{'iso_639_1': 'en', 'name': 'English'}]   \n",
       "1  262797249.0   104.0  [{'iso_639_1': 'en', 'name': 'English'}, {'iso...   \n",
       "2          0.0   101.0           [{'iso_639_1': 'en', 'name': 'English'}]   \n",
       "3   81452156.0   127.0           [{'iso_639_1': 'en', 'name': 'English'}]   \n",
       "4   76578911.0   106.0           [{'iso_639_1': 'en', 'name': 'English'}]   \n",
       "\n",
       "     status                                            tagline  \\\n",
       "0  Released                                                NaN   \n",
       "1  Released          Roll the dice and unleash the excitement!   \n",
       "2  Released  Still Yelling. Still Fighting. Still Ready for...   \n",
       "3  Released  Friends are the people who let you be yourself...   \n",
       "4  Released  Just When His World Is Back To Normal... He's ...   \n",
       "\n",
       "                         title  video vote_average vote_count  \n",
       "0                    Toy Story  False          7.7     5415.0  \n",
       "1                      Jumanji  False          6.9     2413.0  \n",
       "2             Grumpier Old Men  False          6.5       92.0  \n",
       "3            Waiting to Exhale  False          6.1       34.0  \n",
       "4  Father of the Bride Part II  False          5.7      173.0  \n",
       "\n",
       "[5 rows x 24 columns]"
      ]
     },
     "execution_count": 4,
     "metadata": {},
     "output_type": "execute_result"
    }
   ],
   "source": [
    "df=pd.read_csv('movies_metadata.csv')\n",
    "df.head()"
   ]
  },
  {
   "cell_type": "code",
   "execution_count": 5,
   "metadata": {
    "slideshow": {
     "slide_type": "skip"
    }
   },
   "outputs": [
    {
     "data": {
      "text/plain": [
       "(45466, 24)"
      ]
     },
     "execution_count": 5,
     "metadata": {},
     "output_type": "execute_result"
    }
   ],
   "source": [
    "df.shape"
   ]
  },
  {
   "cell_type": "markdown",
   "metadata": {
    "slideshow": {
     "slide_type": "skip"
    }
   },
   "source": [
    "# Data Exploration and Cleaning "
   ]
  },
  {
   "cell_type": "code",
   "execution_count": 6,
   "metadata": {
    "slideshow": {
     "slide_type": "skip"
    }
   },
   "outputs": [
    {
     "data": {
      "text/plain": [
       "(45466, 24)"
      ]
     },
     "execution_count": 6,
     "metadata": {},
     "output_type": "execute_result"
    }
   ],
   "source": [
    "df.shape"
   ]
  },
  {
   "cell_type": "code",
   "execution_count": 7,
   "metadata": {
    "scrolled": false,
    "slideshow": {
     "slide_type": "skip"
    }
   },
   "outputs": [
    {
     "name": "stdout",
     "output_type": "stream",
     "text": [
      "<class 'pandas.core.frame.DataFrame'>\n",
      "RangeIndex: 45466 entries, 0 to 45465\n",
      "Data columns (total 24 columns):\n",
      " #   Column                 Non-Null Count  Dtype  \n",
      "---  ------                 --------------  -----  \n",
      " 0   adult                  45466 non-null  object \n",
      " 1   belongs_to_collection  4494 non-null   object \n",
      " 2   budget                 45466 non-null  object \n",
      " 3   genres                 45466 non-null  object \n",
      " 4   homepage               7782 non-null   object \n",
      " 5   id                     45466 non-null  object \n",
      " 6   imdb_id                45449 non-null  object \n",
      " 7   original_language      45455 non-null  object \n",
      " 8   original_title         45466 non-null  object \n",
      " 9   overview               44512 non-null  object \n",
      " 10  popularity             45461 non-null  object \n",
      " 11  poster_path            45080 non-null  object \n",
      " 12  production_companies   45463 non-null  object \n",
      " 13  production_countries   45463 non-null  object \n",
      " 14  release_date           45379 non-null  object \n",
      " 15  revenue                45460 non-null  float64\n",
      " 16  runtime                45203 non-null  float64\n",
      " 17  spoken_languages       45460 non-null  object \n",
      " 18  status                 45379 non-null  object \n",
      " 19  tagline                20412 non-null  object \n",
      " 20  title                  45460 non-null  object \n",
      " 21  video                  45460 non-null  object \n",
      " 22  vote_average           45460 non-null  float64\n",
      " 23  vote_count             45460 non-null  float64\n",
      "dtypes: float64(4), object(20)\n",
      "memory usage: 8.3+ MB\n"
     ]
    }
   ],
   "source": [
    "df.info()"
   ]
  },
  {
   "cell_type": "code",
   "execution_count": 8,
   "metadata": {
    "slideshow": {
     "slide_type": "skip"
    }
   },
   "outputs": [
    {
     "data": {
      "text/plain": [
       "\"[{'id': 16, 'name': 'Animation'}, {'id': 35, 'name': 'Comedy'}, {'id': 10751, 'name': 'Family'}]\""
      ]
     },
     "execution_count": 8,
     "metadata": {},
     "output_type": "execute_result"
    }
   ],
   "source": [
    "#Keep the 1st genre only, it's the most indicator the movie genre\n",
    "df['genres'][0]"
   ]
  },
  {
   "cell_type": "code",
   "execution_count": 9,
   "metadata": {
    "slideshow": {
     "slide_type": "skip"
    }
   },
   "outputs": [
    {
     "data": {
      "text/plain": [
       "\"{'id': 10194, 'name': 'Toy Story Collection', 'poster_path': '/7G9915LfUQ2lVfwMEEhDsn3kT4B.jpg', 'backdrop_path': '/9FBwqcd9IRruEDUrTdcaafOMKUq.jpg'}\""
      ]
     },
     "execution_count": 9,
     "metadata": {},
     "output_type": "execute_result"
    }
   ],
   "source": [
    "df['belongs_to_collection'][0]"
   ]
  },
  {
   "cell_type": "code",
   "execution_count": 10,
   "metadata": {
    "slideshow": {
     "slide_type": "skip"
    }
   },
   "outputs": [
    {
     "data": {
      "text/plain": [
       "0                 [{'iso_639_1': 'en', 'name': 'English'}]\n",
       "1        [{'iso_639_1': 'en', 'name': 'English'}, {'iso...\n",
       "2                 [{'iso_639_1': 'en', 'name': 'English'}]\n",
       "3                 [{'iso_639_1': 'en', 'name': 'English'}]\n",
       "4                 [{'iso_639_1': 'en', 'name': 'English'}]\n",
       "                               ...                        \n",
       "45461               [{'iso_639_1': 'fa', 'name': 'فارسی'}]\n",
       "45462                    [{'iso_639_1': 'tl', 'name': ''}]\n",
       "45463             [{'iso_639_1': 'en', 'name': 'English'}]\n",
       "45464                                                   []\n",
       "45465             [{'iso_639_1': 'en', 'name': 'English'}]\n",
       "Name: spoken_languages, Length: 45466, dtype: object"
      ]
     },
     "execution_count": 10,
     "metadata": {},
     "output_type": "execute_result"
    }
   ],
   "source": [
    "df['spoken_languages']"
   ]
  },
  {
   "cell_type": "code",
   "execution_count": 11,
   "metadata": {
    "slideshow": {
     "slide_type": "skip"
    }
   },
   "outputs": [
    {
     "data": {
      "text/plain": [
       "array(['en', 'fr', 'zh', 'it', 'fa', 'nl', 'de', 'cn', 'ar', 'es', 'ru',\n",
       "       'sv', 'ja', 'ko', 'sr', 'bn', 'he', 'pt', 'wo', 'ro', 'hu', 'cy',\n",
       "       'vi', 'cs', 'da', 'no', 'nb', 'pl', 'el', 'sh', 'xx', 'mk', 'bo',\n",
       "       'ca', 'fi', 'th', 'sk', 'bs', 'hi', 'tr', 'is', 'ps', 'ab', 'eo',\n",
       "       'ka', 'mn', 'bm', 'zu', 'uk', 'af', 'la', 'et', 'ku', 'fy', 'lv',\n",
       "       'ta', 'sl', 'tl', 'ur', 'rw', 'id', 'bg', 'mr', 'lt', 'kk', 'ms',\n",
       "       'sq', nan, '104.0', 'qu', 'te', 'am', 'jv', 'tg', 'ml', 'hr', 'lo',\n",
       "       'ay', 'kn', 'eu', 'ne', 'pa', 'ky', 'gl', '68.0', 'uz', 'sm', 'mt',\n",
       "       '82.0', 'hy', 'iu', 'lb', 'si'], dtype=object)"
      ]
     },
     "execution_count": 11,
     "metadata": {},
     "output_type": "execute_result"
    }
   ],
   "source": [
    "df['original_language'].unique()"
   ]
  },
  {
   "cell_type": "code",
   "execution_count": 12,
   "metadata": {
    "slideshow": {
     "slide_type": "skip"
    }
   },
   "outputs": [
    {
     "name": "stdout",
     "output_type": "stream",
     "text": [
      "['False' 'True' ' - Written by Ørnås'\n",
      " ' Rune Balot goes to a casino connected to the October corporation to try to wrap up her case once and for all.'\n",
      " ' Avalanche Sharks tells the story of a bikini contest that turns into a horrifying affair when it is hit by a shark avalanche.']\n"
     ]
    }
   ],
   "source": [
    "# adult Values isn't useful at all, I think I will drop all values that is not (False, True)\n",
    "print(df['adult'].unique())"
   ]
  },
  {
   "cell_type": "code",
   "execution_count": 13,
   "metadata": {
    "slideshow": {
     "slide_type": "skip"
    }
   },
   "outputs": [
    {
     "data": {
      "text/plain": [
       "array(['Released', nan, 'Rumored', 'Post Production', 'In Production',\n",
       "       'Planned', 'Canceled'], dtype=object)"
      ]
     },
     "execution_count": 13,
     "metadata": {},
     "output_type": "execute_result"
    }
   ],
   "source": [
    "#Status values, ==> 6 values\n",
    "df.status.unique()"
   ]
  },
  {
   "cell_type": "code",
   "execution_count": 14,
   "metadata": {
    "slideshow": {
     "slide_type": "skip"
    }
   },
   "outputs": [
    {
     "data": {
      "text/plain": [
       "array([False, True, nan], dtype=object)"
      ]
     },
     "execution_count": 14,
     "metadata": {},
     "output_type": "execute_result"
    }
   ],
   "source": [
    "#Will drop nan valeus\n",
    "df.video.unique()"
   ]
  },
  {
   "cell_type": "code",
   "execution_count": 15,
   "metadata": {
    "slideshow": {
     "slide_type": "skip"
    }
   },
   "outputs": [
    {
     "data": {
      "text/plain": [
       "count     45461\n",
       "unique    44176\n",
       "top         0.0\n",
       "freq         34\n",
       "Name: popularity, dtype: object"
      ]
     },
     "execution_count": 15,
     "metadata": {},
     "output_type": "execute_result"
    }
   ],
   "source": [
    "# needs to be changed to integer.\n",
    "df.popularity.describe()"
   ]
  },
  {
   "cell_type": "code",
   "execution_count": 16,
   "metadata": {
    "slideshow": {
     "slide_type": "skip"
    }
   },
   "outputs": [
    {
     "data": {
      "text/plain": [
       "array([\"[{'name': 'Pixar Animation Studios', 'id': 3}]\",\n",
       "       \"[{'name': 'TriStar Pictures', 'id': 559}, {'name': 'Teitler Film', 'id': 2550}, {'name': 'Interscope Communications', 'id': 10201}]\",\n",
       "       \"[{'name': 'Warner Bros.', 'id': 6194}, {'name': 'Lancaster Gate', 'id': 19464}]\",\n",
       "       ...,\n",
       "       \"[{'name': 'Westdeutscher Rundfunk (WDR)', 'id': 7025}, {'name': 'Working Title Films', 'id': 10163}, {'name': '20th Century Fox Television', 'id': 16323}, {'name': 'CanWest Global Communications', 'id': 38978}]\",\n",
       "       \"[{'name': 'Sine Olivia', 'id': 19653}]\",\n",
       "       \"[{'name': 'Yermoliev', 'id': 88753}]\"], dtype=object)"
      ]
     },
     "execution_count": 16,
     "metadata": {},
     "output_type": "execute_result"
    }
   ],
   "source": [
    "#Extract companies names\n",
    "df.production_companies.unique()"
   ]
  },
  {
   "cell_type": "code",
   "execution_count": 17,
   "metadata": {
    "slideshow": {
     "slide_type": "skip"
    }
   },
   "outputs": [
    {
     "data": {
      "text/plain": [
       "array([\"[{'iso_3166_1': 'US', 'name': 'United States of America'}]\",\n",
       "       \"[{'iso_3166_1': 'DE', 'name': 'Germany'}, {'iso_3166_1': 'US', 'name': 'United States of America'}]\",\n",
       "       \"[{'iso_3166_1': 'GB', 'name': 'United Kingdom'}, {'iso_3166_1': 'US', 'name': 'United States of America'}]\",\n",
       "       ...,\n",
       "       \"[{'iso_3166_1': 'PL', 'name': 'Poland'}, {'iso_3166_1': 'CZ', 'name': 'Czech Republic'}, {'iso_3166_1': 'SK', 'name': 'Slovakia'}]\",\n",
       "       \"[{'iso_3166_1': 'CU', 'name': 'Cuba'}, {'iso_3166_1': 'DE', 'name': 'Germany'}, {'iso_3166_1': 'ES', 'name': 'Spain'}]\",\n",
       "       \"[{'iso_3166_1': 'EG', 'name': 'Egypt'}, {'iso_3166_1': 'IT', 'name': 'Italy'}, {'iso_3166_1': 'US', 'name': 'United States of America'}]\"],\n",
       "      dtype=object)"
      ]
     },
     "execution_count": 17,
     "metadata": {},
     "output_type": "execute_result"
    }
   ],
   "source": [
    "#Will Extract countries names\n",
    "df.production_countries.unique()"
   ]
  },
  {
   "cell_type": "code",
   "execution_count": 18,
   "metadata": {
    "slideshow": {
     "slide_type": "skip"
    }
   },
   "outputs": [
    {
     "name": "stdout",
     "output_type": "stream",
     "text": [
      "id                   45436\n",
      "imdb_id              45417\n",
      "title                42277\n",
      "original_title       43373\n",
      "original_language       92\n",
      "spoken_languages      1931\n",
      "dtype: int64\n"
     ]
    }
   ],
   "source": [
    "print(df[['id','imdb_id','title','original_title','original_language','spoken_languages']].nunique())"
   ]
  },
  {
   "cell_type": "code",
   "execution_count": 19,
   "metadata": {
    "slideshow": {
     "slide_type": "skip"
    }
   },
   "outputs": [
    {
     "name": "stdout",
     "output_type": "stream",
     "text": [
      "(45466, 17)\n"
     ]
    },
    {
     "data": {
      "text/html": [
       "<div>\n",
       "<style scoped>\n",
       "    .dataframe tbody tr th:only-of-type {\n",
       "        vertical-align: middle;\n",
       "    }\n",
       "\n",
       "    .dataframe tbody tr th {\n",
       "        vertical-align: top;\n",
       "    }\n",
       "\n",
       "    .dataframe thead th {\n",
       "        text-align: right;\n",
       "    }\n",
       "</style>\n",
       "<table border=\"1\" class=\"dataframe\">\n",
       "  <thead>\n",
       "    <tr style=\"text-align: right;\">\n",
       "      <th></th>\n",
       "      <th>adult</th>\n",
       "      <th>budget</th>\n",
       "      <th>genres</th>\n",
       "      <th>id</th>\n",
       "      <th>original_language</th>\n",
       "      <th>original_title</th>\n",
       "      <th>popularity</th>\n",
       "      <th>production_companies</th>\n",
       "      <th>production_countries</th>\n",
       "      <th>release_date</th>\n",
       "      <th>revenue</th>\n",
       "      <th>runtime</th>\n",
       "      <th>spoken_languages</th>\n",
       "      <th>status</th>\n",
       "      <th>video</th>\n",
       "      <th>vote_average</th>\n",
       "      <th>vote_count</th>\n",
       "    </tr>\n",
       "  </thead>\n",
       "  <tbody>\n",
       "    <tr>\n",
       "      <th>0</th>\n",
       "      <td>False</td>\n",
       "      <td>30000000</td>\n",
       "      <td>[{'id': 16, 'name': 'Animation'}, {'id': 35, '...</td>\n",
       "      <td>862</td>\n",
       "      <td>en</td>\n",
       "      <td>Toy Story</td>\n",
       "      <td>21.9469</td>\n",
       "      <td>[{'name': 'Pixar Animation Studios', 'id': 3}]</td>\n",
       "      <td>[{'iso_3166_1': 'US', 'name': 'United States o...</td>\n",
       "      <td>1995-10-30</td>\n",
       "      <td>373554033.0</td>\n",
       "      <td>81.0</td>\n",
       "      <td>[{'iso_639_1': 'en', 'name': 'English'}]</td>\n",
       "      <td>Released</td>\n",
       "      <td>False</td>\n",
       "      <td>7.7</td>\n",
       "      <td>5415.0</td>\n",
       "    </tr>\n",
       "    <tr>\n",
       "      <th>1</th>\n",
       "      <td>False</td>\n",
       "      <td>65000000</td>\n",
       "      <td>[{'id': 12, 'name': 'Adventure'}, {'id': 14, '...</td>\n",
       "      <td>8844</td>\n",
       "      <td>en</td>\n",
       "      <td>Jumanji</td>\n",
       "      <td>17.0155</td>\n",
       "      <td>[{'name': 'TriStar Pictures', 'id': 559}, {'na...</td>\n",
       "      <td>[{'iso_3166_1': 'US', 'name': 'United States o...</td>\n",
       "      <td>1995-12-15</td>\n",
       "      <td>262797249.0</td>\n",
       "      <td>104.0</td>\n",
       "      <td>[{'iso_639_1': 'en', 'name': 'English'}, {'iso...</td>\n",
       "      <td>Released</td>\n",
       "      <td>False</td>\n",
       "      <td>6.9</td>\n",
       "      <td>2413.0</td>\n",
       "    </tr>\n",
       "    <tr>\n",
       "      <th>2</th>\n",
       "      <td>False</td>\n",
       "      <td>0</td>\n",
       "      <td>[{'id': 10749, 'name': 'Romance'}, {'id': 35, ...</td>\n",
       "      <td>15602</td>\n",
       "      <td>en</td>\n",
       "      <td>Grumpier Old Men</td>\n",
       "      <td>11.7129</td>\n",
       "      <td>[{'name': 'Warner Bros.', 'id': 6194}, {'name'...</td>\n",
       "      <td>[{'iso_3166_1': 'US', 'name': 'United States o...</td>\n",
       "      <td>1995-12-22</td>\n",
       "      <td>0.0</td>\n",
       "      <td>101.0</td>\n",
       "      <td>[{'iso_639_1': 'en', 'name': 'English'}]</td>\n",
       "      <td>Released</td>\n",
       "      <td>False</td>\n",
       "      <td>6.5</td>\n",
       "      <td>92.0</td>\n",
       "    </tr>\n",
       "    <tr>\n",
       "      <th>3</th>\n",
       "      <td>False</td>\n",
       "      <td>16000000</td>\n",
       "      <td>[{'id': 35, 'name': 'Comedy'}, {'id': 18, 'nam...</td>\n",
       "      <td>31357</td>\n",
       "      <td>en</td>\n",
       "      <td>Waiting to Exhale</td>\n",
       "      <td>3.85949</td>\n",
       "      <td>[{'name': 'Twentieth Century Fox Film Corporat...</td>\n",
       "      <td>[{'iso_3166_1': 'US', 'name': 'United States o...</td>\n",
       "      <td>1995-12-22</td>\n",
       "      <td>81452156.0</td>\n",
       "      <td>127.0</td>\n",
       "      <td>[{'iso_639_1': 'en', 'name': 'English'}]</td>\n",
       "      <td>Released</td>\n",
       "      <td>False</td>\n",
       "      <td>6.1</td>\n",
       "      <td>34.0</td>\n",
       "    </tr>\n",
       "    <tr>\n",
       "      <th>4</th>\n",
       "      <td>False</td>\n",
       "      <td>0</td>\n",
       "      <td>[{'id': 35, 'name': 'Comedy'}]</td>\n",
       "      <td>11862</td>\n",
       "      <td>en</td>\n",
       "      <td>Father of the Bride Part II</td>\n",
       "      <td>8.38752</td>\n",
       "      <td>[{'name': 'Sandollar Productions', 'id': 5842}...</td>\n",
       "      <td>[{'iso_3166_1': 'US', 'name': 'United States o...</td>\n",
       "      <td>1995-02-10</td>\n",
       "      <td>76578911.0</td>\n",
       "      <td>106.0</td>\n",
       "      <td>[{'iso_639_1': 'en', 'name': 'English'}]</td>\n",
       "      <td>Released</td>\n",
       "      <td>False</td>\n",
       "      <td>5.7</td>\n",
       "      <td>173.0</td>\n",
       "    </tr>\n",
       "  </tbody>\n",
       "</table>\n",
       "</div>"
      ],
      "text/plain": [
       "   adult    budget                                             genres     id  \\\n",
       "0  False  30000000  [{'id': 16, 'name': 'Animation'}, {'id': 35, '...    862   \n",
       "1  False  65000000  [{'id': 12, 'name': 'Adventure'}, {'id': 14, '...   8844   \n",
       "2  False         0  [{'id': 10749, 'name': 'Romance'}, {'id': 35, ...  15602   \n",
       "3  False  16000000  [{'id': 35, 'name': 'Comedy'}, {'id': 18, 'nam...  31357   \n",
       "4  False         0                     [{'id': 35, 'name': 'Comedy'}]  11862   \n",
       "\n",
       "  original_language               original_title popularity  \\\n",
       "0                en                    Toy Story    21.9469   \n",
       "1                en                      Jumanji    17.0155   \n",
       "2                en             Grumpier Old Men    11.7129   \n",
       "3                en            Waiting to Exhale    3.85949   \n",
       "4                en  Father of the Bride Part II    8.38752   \n",
       "\n",
       "                                production_companies  \\\n",
       "0     [{'name': 'Pixar Animation Studios', 'id': 3}]   \n",
       "1  [{'name': 'TriStar Pictures', 'id': 559}, {'na...   \n",
       "2  [{'name': 'Warner Bros.', 'id': 6194}, {'name'...   \n",
       "3  [{'name': 'Twentieth Century Fox Film Corporat...   \n",
       "4  [{'name': 'Sandollar Productions', 'id': 5842}...   \n",
       "\n",
       "                                production_countries release_date  \\\n",
       "0  [{'iso_3166_1': 'US', 'name': 'United States o...   1995-10-30   \n",
       "1  [{'iso_3166_1': 'US', 'name': 'United States o...   1995-12-15   \n",
       "2  [{'iso_3166_1': 'US', 'name': 'United States o...   1995-12-22   \n",
       "3  [{'iso_3166_1': 'US', 'name': 'United States o...   1995-12-22   \n",
       "4  [{'iso_3166_1': 'US', 'name': 'United States o...   1995-02-10   \n",
       "\n",
       "       revenue  runtime                                   spoken_languages  \\\n",
       "0  373554033.0     81.0           [{'iso_639_1': 'en', 'name': 'English'}]   \n",
       "1  262797249.0    104.0  [{'iso_639_1': 'en', 'name': 'English'}, {'iso...   \n",
       "2          0.0    101.0           [{'iso_639_1': 'en', 'name': 'English'}]   \n",
       "3   81452156.0    127.0           [{'iso_639_1': 'en', 'name': 'English'}]   \n",
       "4   76578911.0    106.0           [{'iso_639_1': 'en', 'name': 'English'}]   \n",
       "\n",
       "     status  video  vote_average  vote_count  \n",
       "0  Released  False           7.7      5415.0  \n",
       "1  Released  False           6.9      2413.0  \n",
       "2  Released  False           6.5        92.0  \n",
       "3  Released  False           6.1        34.0  \n",
       "4  Released  False           5.7       173.0  "
      ]
     },
     "execution_count": 19,
     "metadata": {},
     "output_type": "execute_result"
    }
   ],
   "source": [
    "# Droping useless columns -> 7 cols \n",
    "df=df.drop(['belongs_to_collection','homepage','overview','title','imdb_id','tagline','poster_path'],axis=1)\n",
    "print(df.shape)\n",
    "df.head()"
   ]
  },
  {
   "cell_type": "code",
   "execution_count": 20,
   "metadata": {
    "slideshow": {
     "slide_type": "skip"
    }
   },
   "outputs": [
    {
     "data": {
      "text/plain": [
       "(45043, 17)"
      ]
     },
     "execution_count": 20,
     "metadata": {},
     "output_type": "execute_result"
    }
   ],
   "source": [
    "df=df.dropna()\n",
    "df.shape"
   ]
  },
  {
   "cell_type": "markdown",
   "metadata": {
    "slideshow": {
     "slide_type": "skip"
    }
   },
   "source": [
    "### Data Cleaning\n",
    "    1-Extract production_countries name (only 1st name of the countries)\n",
    "    2-Extract production_companies name (only 1st name of the companies)\n",
    "    3-Extract spoken_languages name (only 1st name of the languages as it's the most important)\n",
    "    4-Extract genres name (only 1st name of the genres as it's the best indicator of the movie genre)"
   ]
  },
  {
   "cell_type": "code",
   "execution_count": 21,
   "metadata": {
    "slideshow": {
     "slide_type": "skip"
    }
   },
   "outputs": [
    {
     "data": {
      "text/html": [
       "<div>\n",
       "<style scoped>\n",
       "    .dataframe tbody tr th:only-of-type {\n",
       "        vertical-align: middle;\n",
       "    }\n",
       "\n",
       "    .dataframe tbody tr th {\n",
       "        vertical-align: top;\n",
       "    }\n",
       "\n",
       "    .dataframe thead th {\n",
       "        text-align: right;\n",
       "    }\n",
       "</style>\n",
       "<table border=\"1\" class=\"dataframe\">\n",
       "  <thead>\n",
       "    <tr style=\"text-align: right;\">\n",
       "      <th></th>\n",
       "      <th>adult</th>\n",
       "      <th>budget</th>\n",
       "      <th>genres</th>\n",
       "      <th>id</th>\n",
       "      <th>original_language</th>\n",
       "      <th>original_title</th>\n",
       "      <th>popularity</th>\n",
       "      <th>production_companies</th>\n",
       "      <th>production_countries</th>\n",
       "      <th>release_date</th>\n",
       "      <th>revenue</th>\n",
       "      <th>runtime</th>\n",
       "      <th>spoken_languages</th>\n",
       "      <th>status</th>\n",
       "      <th>video</th>\n",
       "      <th>vote_average</th>\n",
       "      <th>vote_count</th>\n",
       "    </tr>\n",
       "  </thead>\n",
       "  <tbody>\n",
       "    <tr>\n",
       "      <th>0</th>\n",
       "      <td>False</td>\n",
       "      <td>30000000</td>\n",
       "      <td>Animation</td>\n",
       "      <td>862</td>\n",
       "      <td>en</td>\n",
       "      <td>Toy Story</td>\n",
       "      <td>21.9469</td>\n",
       "      <td>Pixar Animation Studios</td>\n",
       "      <td>United States of America</td>\n",
       "      <td>1995-10-30</td>\n",
       "      <td>373554033.0</td>\n",
       "      <td>81.0</td>\n",
       "      <td>English</td>\n",
       "      <td>Released</td>\n",
       "      <td>False</td>\n",
       "      <td>7.7</td>\n",
       "      <td>5415.0</td>\n",
       "    </tr>\n",
       "    <tr>\n",
       "      <th>1</th>\n",
       "      <td>False</td>\n",
       "      <td>65000000</td>\n",
       "      <td>Adventure</td>\n",
       "      <td>8844</td>\n",
       "      <td>en</td>\n",
       "      <td>Jumanji</td>\n",
       "      <td>17.0155</td>\n",
       "      <td>TriStar Pictures</td>\n",
       "      <td>United States of America</td>\n",
       "      <td>1995-12-15</td>\n",
       "      <td>262797249.0</td>\n",
       "      <td>104.0</td>\n",
       "      <td>English</td>\n",
       "      <td>Released</td>\n",
       "      <td>False</td>\n",
       "      <td>6.9</td>\n",
       "      <td>2413.0</td>\n",
       "    </tr>\n",
       "    <tr>\n",
       "      <th>2</th>\n",
       "      <td>False</td>\n",
       "      <td>0</td>\n",
       "      <td>Romance</td>\n",
       "      <td>15602</td>\n",
       "      <td>en</td>\n",
       "      <td>Grumpier Old Men</td>\n",
       "      <td>11.7129</td>\n",
       "      <td>Warner Bros.</td>\n",
       "      <td>United States of America</td>\n",
       "      <td>1995-12-22</td>\n",
       "      <td>0.0</td>\n",
       "      <td>101.0</td>\n",
       "      <td>English</td>\n",
       "      <td>Released</td>\n",
       "      <td>False</td>\n",
       "      <td>6.5</td>\n",
       "      <td>92.0</td>\n",
       "    </tr>\n",
       "    <tr>\n",
       "      <th>3</th>\n",
       "      <td>False</td>\n",
       "      <td>16000000</td>\n",
       "      <td>Comedy</td>\n",
       "      <td>31357</td>\n",
       "      <td>en</td>\n",
       "      <td>Waiting to Exhale</td>\n",
       "      <td>3.85949</td>\n",
       "      <td>Twentieth Century Fox Film Corporation</td>\n",
       "      <td>United States of America</td>\n",
       "      <td>1995-12-22</td>\n",
       "      <td>81452156.0</td>\n",
       "      <td>127.0</td>\n",
       "      <td>English</td>\n",
       "      <td>Released</td>\n",
       "      <td>False</td>\n",
       "      <td>6.1</td>\n",
       "      <td>34.0</td>\n",
       "    </tr>\n",
       "    <tr>\n",
       "      <th>4</th>\n",
       "      <td>False</td>\n",
       "      <td>0</td>\n",
       "      <td>Comedy</td>\n",
       "      <td>11862</td>\n",
       "      <td>en</td>\n",
       "      <td>Father of the Bride Part II</td>\n",
       "      <td>8.38752</td>\n",
       "      <td>Sandollar Productions</td>\n",
       "      <td>United States of America</td>\n",
       "      <td>1995-02-10</td>\n",
       "      <td>76578911.0</td>\n",
       "      <td>106.0</td>\n",
       "      <td>English</td>\n",
       "      <td>Released</td>\n",
       "      <td>False</td>\n",
       "      <td>5.7</td>\n",
       "      <td>173.0</td>\n",
       "    </tr>\n",
       "  </tbody>\n",
       "</table>\n",
       "</div>"
      ],
      "text/plain": [
       "   adult    budget     genres     id original_language  \\\n",
       "0  False  30000000  Animation    862                en   \n",
       "1  False  65000000  Adventure   8844                en   \n",
       "2  False         0    Romance  15602                en   \n",
       "3  False  16000000     Comedy  31357                en   \n",
       "4  False         0     Comedy  11862                en   \n",
       "\n",
       "                original_title popularity  \\\n",
       "0                    Toy Story    21.9469   \n",
       "1                      Jumanji    17.0155   \n",
       "2             Grumpier Old Men    11.7129   \n",
       "3            Waiting to Exhale    3.85949   \n",
       "4  Father of the Bride Part II    8.38752   \n",
       "\n",
       "                     production_companies      production_countries  \\\n",
       "0                 Pixar Animation Studios  United States of America   \n",
       "1                        TriStar Pictures  United States of America   \n",
       "2                            Warner Bros.  United States of America   \n",
       "3  Twentieth Century Fox Film Corporation  United States of America   \n",
       "4                   Sandollar Productions  United States of America   \n",
       "\n",
       "  release_date      revenue  runtime spoken_languages    status  video  \\\n",
       "0   1995-10-30  373554033.0     81.0          English  Released  False   \n",
       "1   1995-12-15  262797249.0    104.0          English  Released  False   \n",
       "2   1995-12-22          0.0    101.0          English  Released  False   \n",
       "3   1995-12-22   81452156.0    127.0          English  Released  False   \n",
       "4   1995-02-10   76578911.0    106.0          English  Released  False   \n",
       "\n",
       "   vote_average  vote_count  \n",
       "0           7.7      5415.0  \n",
       "1           6.9      2413.0  \n",
       "2           6.5        92.0  \n",
       "3           6.1        34.0  \n",
       "4           5.7       173.0  "
      ]
     },
     "execution_count": 21,
     "metadata": {},
     "output_type": "execute_result"
    }
   ],
   "source": [
    "# production_countries\n",
    "# Get production_countries names\n",
    "df['production_countries']=df.loc[df['production_countries'].notna(), 'production_countries'].str.split(\"'name': \").str[1].str.split(\"'\").str[1]\n",
    "\n",
    "# production_companies\n",
    "df['production_companies']=df.loc[df['production_companies'].notna(), 'production_companies'].str.split(\"'name': \").str[1].str.split(\"'\").str[1]\n",
    "\n",
    "#spoken_languages\n",
    "df['spoken_languages']=df.loc[df['spoken_languages'].notna(), 'spoken_languages'].str.split(\"'name': \").str[1].str.split(\"'\").str[1]\n",
    "\n",
    "#genres\n",
    "df['genres']=df.loc[df['genres'].notna(), 'genres'].str.split(\"'name': \").str[1].str.split(\"'\").str[1]\n",
    "\n",
    "df.head()"
   ]
  },
  {
   "cell_type": "markdown",
   "metadata": {
    "slideshow": {
     "slide_type": "skip"
    }
   },
   "source": [
    "### Transfer release_date from object to Datetime"
   ]
  },
  {
   "cell_type": "code",
   "execution_count": 22,
   "metadata": {
    "slideshow": {
     "slide_type": "skip"
    }
   },
   "outputs": [
    {
     "data": {
      "text/html": [
       "<div>\n",
       "<style scoped>\n",
       "    .dataframe tbody tr th:only-of-type {\n",
       "        vertical-align: middle;\n",
       "    }\n",
       "\n",
       "    .dataframe tbody tr th {\n",
       "        vertical-align: top;\n",
       "    }\n",
       "\n",
       "    .dataframe thead th {\n",
       "        text-align: right;\n",
       "    }\n",
       "</style>\n",
       "<table border=\"1\" class=\"dataframe\">\n",
       "  <thead>\n",
       "    <tr style=\"text-align: right;\">\n",
       "      <th></th>\n",
       "      <th>adult</th>\n",
       "      <th>budget</th>\n",
       "      <th>genres</th>\n",
       "      <th>id</th>\n",
       "      <th>original_language</th>\n",
       "      <th>original_title</th>\n",
       "      <th>popularity</th>\n",
       "      <th>production_companies</th>\n",
       "      <th>production_countries</th>\n",
       "      <th>release_date</th>\n",
       "      <th>revenue</th>\n",
       "      <th>runtime</th>\n",
       "      <th>spoken_languages</th>\n",
       "      <th>status</th>\n",
       "      <th>video</th>\n",
       "      <th>vote_average</th>\n",
       "      <th>vote_count</th>\n",
       "    </tr>\n",
       "  </thead>\n",
       "  <tbody>\n",
       "    <tr>\n",
       "      <th>0</th>\n",
       "      <td>False</td>\n",
       "      <td>30000000</td>\n",
       "      <td>Animation</td>\n",
       "      <td>862</td>\n",
       "      <td>en</td>\n",
       "      <td>Toy Story</td>\n",
       "      <td>21.9469</td>\n",
       "      <td>Pixar Animation Studios</td>\n",
       "      <td>United States of America</td>\n",
       "      <td>1995-10-30</td>\n",
       "      <td>373554033.0</td>\n",
       "      <td>81.0</td>\n",
       "      <td>English</td>\n",
       "      <td>Released</td>\n",
       "      <td>False</td>\n",
       "      <td>7.7</td>\n",
       "      <td>5415.0</td>\n",
       "    </tr>\n",
       "    <tr>\n",
       "      <th>1</th>\n",
       "      <td>False</td>\n",
       "      <td>65000000</td>\n",
       "      <td>Adventure</td>\n",
       "      <td>8844</td>\n",
       "      <td>en</td>\n",
       "      <td>Jumanji</td>\n",
       "      <td>17.0155</td>\n",
       "      <td>TriStar Pictures</td>\n",
       "      <td>United States of America</td>\n",
       "      <td>1995-12-15</td>\n",
       "      <td>262797249.0</td>\n",
       "      <td>104.0</td>\n",
       "      <td>English</td>\n",
       "      <td>Released</td>\n",
       "      <td>False</td>\n",
       "      <td>6.9</td>\n",
       "      <td>2413.0</td>\n",
       "    </tr>\n",
       "    <tr>\n",
       "      <th>2</th>\n",
       "      <td>False</td>\n",
       "      <td>0</td>\n",
       "      <td>Romance</td>\n",
       "      <td>15602</td>\n",
       "      <td>en</td>\n",
       "      <td>Grumpier Old Men</td>\n",
       "      <td>11.7129</td>\n",
       "      <td>Warner Bros.</td>\n",
       "      <td>United States of America</td>\n",
       "      <td>1995-12-22</td>\n",
       "      <td>0.0</td>\n",
       "      <td>101.0</td>\n",
       "      <td>English</td>\n",
       "      <td>Released</td>\n",
       "      <td>False</td>\n",
       "      <td>6.5</td>\n",
       "      <td>92.0</td>\n",
       "    </tr>\n",
       "    <tr>\n",
       "      <th>3</th>\n",
       "      <td>False</td>\n",
       "      <td>16000000</td>\n",
       "      <td>Comedy</td>\n",
       "      <td>31357</td>\n",
       "      <td>en</td>\n",
       "      <td>Waiting to Exhale</td>\n",
       "      <td>3.85949</td>\n",
       "      <td>Twentieth Century Fox Film Corporation</td>\n",
       "      <td>United States of America</td>\n",
       "      <td>1995-12-22</td>\n",
       "      <td>81452156.0</td>\n",
       "      <td>127.0</td>\n",
       "      <td>English</td>\n",
       "      <td>Released</td>\n",
       "      <td>False</td>\n",
       "      <td>6.1</td>\n",
       "      <td>34.0</td>\n",
       "    </tr>\n",
       "    <tr>\n",
       "      <th>4</th>\n",
       "      <td>False</td>\n",
       "      <td>0</td>\n",
       "      <td>Comedy</td>\n",
       "      <td>11862</td>\n",
       "      <td>en</td>\n",
       "      <td>Father of the Bride Part II</td>\n",
       "      <td>8.38752</td>\n",
       "      <td>Sandollar Productions</td>\n",
       "      <td>United States of America</td>\n",
       "      <td>1995-02-10</td>\n",
       "      <td>76578911.0</td>\n",
       "      <td>106.0</td>\n",
       "      <td>English</td>\n",
       "      <td>Released</td>\n",
       "      <td>False</td>\n",
       "      <td>5.7</td>\n",
       "      <td>173.0</td>\n",
       "    </tr>\n",
       "  </tbody>\n",
       "</table>\n",
       "</div>"
      ],
      "text/plain": [
       "   adult    budget     genres     id original_language  \\\n",
       "0  False  30000000  Animation    862                en   \n",
       "1  False  65000000  Adventure   8844                en   \n",
       "2  False         0    Romance  15602                en   \n",
       "3  False  16000000     Comedy  31357                en   \n",
       "4  False         0     Comedy  11862                en   \n",
       "\n",
       "                original_title popularity  \\\n",
       "0                    Toy Story    21.9469   \n",
       "1                      Jumanji    17.0155   \n",
       "2             Grumpier Old Men    11.7129   \n",
       "3            Waiting to Exhale    3.85949   \n",
       "4  Father of the Bride Part II    8.38752   \n",
       "\n",
       "                     production_companies      production_countries  \\\n",
       "0                 Pixar Animation Studios  United States of America   \n",
       "1                        TriStar Pictures  United States of America   \n",
       "2                            Warner Bros.  United States of America   \n",
       "3  Twentieth Century Fox Film Corporation  United States of America   \n",
       "4                   Sandollar Productions  United States of America   \n",
       "\n",
       "  release_date      revenue  runtime spoken_languages    status  video  \\\n",
       "0   1995-10-30  373554033.0     81.0          English  Released  False   \n",
       "1   1995-12-15  262797249.0    104.0          English  Released  False   \n",
       "2   1995-12-22          0.0    101.0          English  Released  False   \n",
       "3   1995-12-22   81452156.0    127.0          English  Released  False   \n",
       "4   1995-02-10   76578911.0    106.0          English  Released  False   \n",
       "\n",
       "   vote_average  vote_count  \n",
       "0           7.7      5415.0  \n",
       "1           6.9      2413.0  \n",
       "2           6.5        92.0  \n",
       "3           6.1        34.0  \n",
       "4           5.7       173.0  "
      ]
     },
     "execution_count": 22,
     "metadata": {},
     "output_type": "execute_result"
    }
   ],
   "source": [
    "# release_date\n",
    "# Transfer release_date from object to datetime\n",
    "df['release_date']=pd.to_datetime(df['release_date'])\n",
    "df.head()"
   ]
  },
  {
   "cell_type": "code",
   "execution_count": 23,
   "metadata": {
    "slideshow": {
     "slide_type": "skip"
    }
   },
   "outputs": [
    {
     "name": "stdout",
     "output_type": "stream",
     "text": [
      "<class 'pandas.core.frame.DataFrame'>\n",
      "Int64Index: 45043 entries, 0 to 45465\n",
      "Data columns (total 17 columns):\n",
      " #   Column                Non-Null Count  Dtype         \n",
      "---  ------                --------------  -----         \n",
      " 0   adult                 45043 non-null  object        \n",
      " 1   budget                45043 non-null  object        \n",
      " 2   genres                42756 non-null  object        \n",
      " 3   id                    45043 non-null  object        \n",
      " 4   original_language     45043 non-null  object        \n",
      " 5   original_title        45043 non-null  object        \n",
      " 6   popularity            45043 non-null  object        \n",
      " 7   production_companies  33478 non-null  object        \n",
      " 8   production_countries  38979 non-null  object        \n",
      " 9   release_date          45043 non-null  datetime64[ns]\n",
      " 10  revenue               45043 non-null  float64       \n",
      " 11  runtime               45043 non-null  float64       \n",
      " 12  spoken_languages      41414 non-null  object        \n",
      " 13  status                45043 non-null  object        \n",
      " 14  video                 45043 non-null  object        \n",
      " 15  vote_average          45043 non-null  float64       \n",
      " 16  vote_count            45043 non-null  float64       \n",
      "dtypes: datetime64[ns](1), float64(4), object(12)\n",
      "memory usage: 6.2+ MB\n"
     ]
    }
   ],
   "source": [
    "#Note that release_data has changed\n",
    "df.info()"
   ]
  },
  {
   "cell_type": "markdown",
   "metadata": {
    "slideshow": {
     "slide_type": "skip"
    }
   },
   "source": [
    "### Transfering Data Types \n",
    "    1-id (object -> int)\n",
    "    2-popularity (object -> float)\n",
    "    3-budget (object -> float)"
   ]
  },
  {
   "cell_type": "code",
   "execution_count": 24,
   "metadata": {
    "slideshow": {
     "slide_type": "skip"
    }
   },
   "outputs": [
    {
     "name": "stdout",
     "output_type": "stream",
     "text": [
      "<class 'pandas.core.frame.DataFrame'>\n",
      "Int64Index: 45043 entries, 0 to 45465\n",
      "Data columns (total 17 columns):\n",
      " #   Column                Non-Null Count  Dtype         \n",
      "---  ------                --------------  -----         \n",
      " 0   adult                 45043 non-null  object        \n",
      " 1   budget                45043 non-null  float64       \n",
      " 2   genres                42756 non-null  object        \n",
      " 3   id                    45043 non-null  int32         \n",
      " 4   original_language     45043 non-null  object        \n",
      " 5   original_title        45043 non-null  object        \n",
      " 6   popularity            45043 non-null  float64       \n",
      " 7   production_companies  33478 non-null  object        \n",
      " 8   production_countries  38979 non-null  object        \n",
      " 9   release_date          45043 non-null  datetime64[ns]\n",
      " 10  revenue               45043 non-null  float64       \n",
      " 11  runtime               45043 non-null  float64       \n",
      " 12  spoken_languages      41414 non-null  object        \n",
      " 13  status                45043 non-null  object        \n",
      " 14  video                 45043 non-null  object        \n",
      " 15  vote_average          45043 non-null  float64       \n",
      " 16  vote_count            45043 non-null  float64       \n",
      "dtypes: datetime64[ns](1), float64(6), int32(1), object(9)\n",
      "memory usage: 6.0+ MB\n"
     ]
    }
   ],
   "source": [
    "# I think it's not necessary to tranfer id from object to int.\n",
    "df['id']=df['id'].astype(str).astype(int)\n",
    "df[['popularity','budget']]=df[['popularity','budget']].astype(str).astype(float)\n",
    "df.info()"
   ]
  },
  {
   "cell_type": "markdown",
   "metadata": {
    "slideshow": {
     "slide_type": "skip"
    }
   },
   "source": [
    "**Droping duplicates in id columns**"
   ]
  },
  {
   "cell_type": "code",
   "execution_count": 25,
   "metadata": {
    "slideshow": {
     "slide_type": "skip"
    }
   },
   "outputs": [],
   "source": [
    "df=df.drop_duplicates('id')"
   ]
  },
  {
   "cell_type": "code",
   "execution_count": 26,
   "metadata": {
    "slideshow": {
     "slide_type": "skip"
    }
   },
   "outputs": [
    {
     "data": {
      "text/plain": [
       "(45013, 17)"
      ]
     },
     "execution_count": 26,
     "metadata": {},
     "output_type": "execute_result"
    }
   ],
   "source": [
    "df.shape"
   ]
  },
  {
   "cell_type": "code",
   "execution_count": 27,
   "metadata": {
    "slideshow": {
     "slide_type": "skip"
    }
   },
   "outputs": [
    {
     "name": "stdout",
     "output_type": "stream",
     "text": [
      "<class 'pandas.core.frame.DataFrame'>\n",
      "Int64Index: 45013 entries, 0 to 45465\n",
      "Data columns (total 17 columns):\n",
      " #   Column                Non-Null Count  Dtype         \n",
      "---  ------                --------------  -----         \n",
      " 0   adult                 45013 non-null  object        \n",
      " 1   budget                45013 non-null  float64       \n",
      " 2   genres                42726 non-null  object        \n",
      " 3   id                    45013 non-null  int32         \n",
      " 4   original_language     45013 non-null  object        \n",
      " 5   original_title        45013 non-null  object        \n",
      " 6   popularity            45013 non-null  float64       \n",
      " 7   production_companies  33455 non-null  object        \n",
      " 8   production_countries  38952 non-null  object        \n",
      " 9   release_date          45013 non-null  datetime64[ns]\n",
      " 10  revenue               45013 non-null  float64       \n",
      " 11  runtime               45013 non-null  float64       \n",
      " 12  spoken_languages      41386 non-null  object        \n",
      " 13  status                45013 non-null  object        \n",
      " 14  video                 45013 non-null  object        \n",
      " 15  vote_average          45013 non-null  float64       \n",
      " 16  vote_count            45013 non-null  float64       \n",
      "dtypes: datetime64[ns](1), float64(6), int32(1), object(9)\n",
      "memory usage: 6.0+ MB\n"
     ]
    }
   ],
   "source": [
    "df.info()"
   ]
  },
  {
   "cell_type": "markdown",
   "metadata": {
    "slideshow": {
     "slide_type": "skip"
    }
   },
   "source": [
    "**Seems like spoken_languages column is a lil bit messy**"
   ]
  },
  {
   "cell_type": "code",
   "execution_count": 28,
   "metadata": {
    "slideshow": {
     "slide_type": "skip"
    }
   },
   "outputs": [
    {
     "name": "stdout",
     "output_type": "stream",
     "text": [
      "73\n"
     ]
    },
    {
     "data": {
      "text/plain": [
       "array(['English', 'Français', '广州话 / 廣州話', '普通话', 'Pусский', 'Español',\n",
       "       nan, 'shqip', 'Italiano', 'Deutsch', 'فارسی', 'Nederlands',\n",
       "       'Dansk', 'العربية', 'Magyar', '', 'Český', 'svenska', '日本語',\n",
       "       'Português', 'Català', '한국어/조선말', 'Afrikaans', 'বাংলা', 'עִבְרִית',\n",
       "       'Latin', 'Cymraeg', 'Tiếng Việt', 'Polski', 'български език',\n",
       "       'ελληνικά', 'Norsk', 'Bosanski', 'Gaeilge', 'Bokmål',\n",
       "       'Український', 'No Language', 'Kiswahili', 'Srpski', 'हिन्दी',\n",
       "       'Azərbaycan', 'ภาษาไทย', 'Bamanankan', 'suomi', 'Română',\n",
       "       'Hrvatski', 'Türkçe', 'ქართული', 'Slovenčina', 'беларуская мова',\n",
       "       'Esperanto', 'Galego', 'Íslenska', 'isiZulu', 'Eesti', 'Latviešu',\n",
       "       'қазақ', 'Slovenščina', 'Bahasa indonesia', 'Wolof', 'اردو',\n",
       "       'Kinyarwanda', 'euskera', 'Bahasa melayu', 'தமிழ்', 'తెలుగు',\n",
       "       'Lietuvi\\\\x9akai', '?????', '??????', 'پښتو', 'ਪੰਜਾਬੀ', 'Somali',\n",
       "       'Hausa', 'Fulfulde'], dtype=object)"
      ]
     },
     "execution_count": 28,
     "metadata": {},
     "output_type": "execute_result"
    }
   ],
   "source": [
    "# It has noisy data and un-understandable data\n",
    "print(df.spoken_languages.nunique())\n",
    "df.spoken_languages.unique()"
   ]
  },
  {
   "cell_type": "markdown",
   "metadata": {
    "slideshow": {
     "slide_type": "skip"
    }
   },
   "source": [
    "**original_language column is a bit organized and I will continue working with it**"
   ]
  },
  {
   "cell_type": "code",
   "execution_count": 29,
   "metadata": {
    "slideshow": {
     "slide_type": "skip"
    }
   },
   "outputs": [
    {
     "name": "stdout",
     "output_type": "stream",
     "text": [
      "89\n"
     ]
    },
    {
     "data": {
      "text/plain": [
       "array(['en', 'fr', 'zh', 'it', 'fa', 'nl', 'de', 'cn', 'ar', 'es', 'ru',\n",
       "       'sv', 'ja', 'ko', 'sr', 'bn', 'he', 'pt', 'wo', 'ro', 'hu', 'cy',\n",
       "       'vi', 'cs', 'da', 'no', 'nb', 'pl', 'el', 'sh', 'xx', 'mk', 'bo',\n",
       "       'ca', 'fi', 'th', 'sk', 'bs', 'hi', 'tr', 'is', 'ps', 'ab', 'eo',\n",
       "       'ka', 'mn', 'bm', 'zu', 'uk', 'af', 'la', 'et', 'ku', 'fy', 'lv',\n",
       "       'ta', 'sl', 'tl', 'ur', 'rw', 'id', 'bg', 'mr', 'lt', 'kk', 'ms',\n",
       "       'sq', 'qu', 'te', 'am', 'jv', 'tg', 'ml', 'hr', 'lo', 'ay', 'kn',\n",
       "       'eu', 'ne', 'pa', 'ky', 'gl', 'uz', 'sm', 'mt', 'hy', 'iu', 'lb',\n",
       "       'si'], dtype=object)"
      ]
     },
     "execution_count": 29,
     "metadata": {},
     "output_type": "execute_result"
    }
   ],
   "source": [
    "# I GUESS I will work with original_language column.\n",
    "print(df.original_language.nunique())\n",
    "df.original_language.unique()"
   ]
  },
  {
   "cell_type": "code",
   "execution_count": 30,
   "metadata": {
    "slideshow": {
     "slide_type": "skip"
    }
   },
   "outputs": [
    {
     "data": {
      "text/html": [
       "<div>\n",
       "<style scoped>\n",
       "    .dataframe tbody tr th:only-of-type {\n",
       "        vertical-align: middle;\n",
       "    }\n",
       "\n",
       "    .dataframe tbody tr th {\n",
       "        vertical-align: top;\n",
       "    }\n",
       "\n",
       "    .dataframe thead th {\n",
       "        text-align: right;\n",
       "    }\n",
       "</style>\n",
       "<table border=\"1\" class=\"dataframe\">\n",
       "  <thead>\n",
       "    <tr style=\"text-align: right;\">\n",
       "      <th></th>\n",
       "      <th>adult</th>\n",
       "      <th>budget</th>\n",
       "      <th>genres</th>\n",
       "      <th>id</th>\n",
       "      <th>original_language</th>\n",
       "      <th>original_title</th>\n",
       "      <th>popularity</th>\n",
       "      <th>production_companies</th>\n",
       "      <th>production_countries</th>\n",
       "      <th>release_date</th>\n",
       "      <th>revenue</th>\n",
       "      <th>runtime</th>\n",
       "      <th>spoken_languages</th>\n",
       "      <th>status</th>\n",
       "      <th>video</th>\n",
       "      <th>vote_average</th>\n",
       "      <th>vote_count</th>\n",
       "    </tr>\n",
       "  </thead>\n",
       "  <tbody>\n",
       "    <tr>\n",
       "      <th>0</th>\n",
       "      <td>False</td>\n",
       "      <td>30000000.0</td>\n",
       "      <td>Animation</td>\n",
       "      <td>862</td>\n",
       "      <td>en</td>\n",
       "      <td>Toy Story</td>\n",
       "      <td>21.946943</td>\n",
       "      <td>Pixar Animation Studios</td>\n",
       "      <td>United States of America</td>\n",
       "      <td>1995-10-30</td>\n",
       "      <td>373554033.0</td>\n",
       "      <td>81.0</td>\n",
       "      <td>English</td>\n",
       "      <td>Released</td>\n",
       "      <td>False</td>\n",
       "      <td>7.7</td>\n",
       "      <td>5415.0</td>\n",
       "    </tr>\n",
       "    <tr>\n",
       "      <th>1</th>\n",
       "      <td>False</td>\n",
       "      <td>65000000.0</td>\n",
       "      <td>Adventure</td>\n",
       "      <td>8844</td>\n",
       "      <td>en</td>\n",
       "      <td>Jumanji</td>\n",
       "      <td>17.015539</td>\n",
       "      <td>TriStar Pictures</td>\n",
       "      <td>United States of America</td>\n",
       "      <td>1995-12-15</td>\n",
       "      <td>262797249.0</td>\n",
       "      <td>104.0</td>\n",
       "      <td>English</td>\n",
       "      <td>Released</td>\n",
       "      <td>False</td>\n",
       "      <td>6.9</td>\n",
       "      <td>2413.0</td>\n",
       "    </tr>\n",
       "    <tr>\n",
       "      <th>2</th>\n",
       "      <td>False</td>\n",
       "      <td>0.0</td>\n",
       "      <td>Romance</td>\n",
       "      <td>15602</td>\n",
       "      <td>en</td>\n",
       "      <td>Grumpier Old Men</td>\n",
       "      <td>11.712900</td>\n",
       "      <td>Warner Bros.</td>\n",
       "      <td>United States of America</td>\n",
       "      <td>1995-12-22</td>\n",
       "      <td>0.0</td>\n",
       "      <td>101.0</td>\n",
       "      <td>English</td>\n",
       "      <td>Released</td>\n",
       "      <td>False</td>\n",
       "      <td>6.5</td>\n",
       "      <td>92.0</td>\n",
       "    </tr>\n",
       "    <tr>\n",
       "      <th>3</th>\n",
       "      <td>False</td>\n",
       "      <td>16000000.0</td>\n",
       "      <td>Comedy</td>\n",
       "      <td>31357</td>\n",
       "      <td>en</td>\n",
       "      <td>Waiting to Exhale</td>\n",
       "      <td>3.859495</td>\n",
       "      <td>Twentieth Century Fox Film Corporation</td>\n",
       "      <td>United States of America</td>\n",
       "      <td>1995-12-22</td>\n",
       "      <td>81452156.0</td>\n",
       "      <td>127.0</td>\n",
       "      <td>English</td>\n",
       "      <td>Released</td>\n",
       "      <td>False</td>\n",
       "      <td>6.1</td>\n",
       "      <td>34.0</td>\n",
       "    </tr>\n",
       "    <tr>\n",
       "      <th>4</th>\n",
       "      <td>False</td>\n",
       "      <td>0.0</td>\n",
       "      <td>Comedy</td>\n",
       "      <td>11862</td>\n",
       "      <td>en</td>\n",
       "      <td>Father of the Bride Part II</td>\n",
       "      <td>8.387519</td>\n",
       "      <td>Sandollar Productions</td>\n",
       "      <td>United States of America</td>\n",
       "      <td>1995-02-10</td>\n",
       "      <td>76578911.0</td>\n",
       "      <td>106.0</td>\n",
       "      <td>English</td>\n",
       "      <td>Released</td>\n",
       "      <td>False</td>\n",
       "      <td>5.7</td>\n",
       "      <td>173.0</td>\n",
       "    </tr>\n",
       "  </tbody>\n",
       "</table>\n",
       "</div>"
      ],
      "text/plain": [
       "   adult      budget     genres     id original_language  \\\n",
       "0  False  30000000.0  Animation    862                en   \n",
       "1  False  65000000.0  Adventure   8844                en   \n",
       "2  False         0.0    Romance  15602                en   \n",
       "3  False  16000000.0     Comedy  31357                en   \n",
       "4  False         0.0     Comedy  11862                en   \n",
       "\n",
       "                original_title  popularity  \\\n",
       "0                    Toy Story   21.946943   \n",
       "1                      Jumanji   17.015539   \n",
       "2             Grumpier Old Men   11.712900   \n",
       "3            Waiting to Exhale    3.859495   \n",
       "4  Father of the Bride Part II    8.387519   \n",
       "\n",
       "                     production_companies      production_countries  \\\n",
       "0                 Pixar Animation Studios  United States of America   \n",
       "1                        TriStar Pictures  United States of America   \n",
       "2                            Warner Bros.  United States of America   \n",
       "3  Twentieth Century Fox Film Corporation  United States of America   \n",
       "4                   Sandollar Productions  United States of America   \n",
       "\n",
       "  release_date      revenue  runtime spoken_languages    status  video  \\\n",
       "0   1995-10-30  373554033.0     81.0          English  Released  False   \n",
       "1   1995-12-15  262797249.0    104.0          English  Released  False   \n",
       "2   1995-12-22          0.0    101.0          English  Released  False   \n",
       "3   1995-12-22   81452156.0    127.0          English  Released  False   \n",
       "4   1995-02-10   76578911.0    106.0          English  Released  False   \n",
       "\n",
       "   vote_average  vote_count  \n",
       "0           7.7      5415.0  \n",
       "1           6.9      2413.0  \n",
       "2           6.5        92.0  \n",
       "3           6.1        34.0  \n",
       "4           5.7       173.0  "
      ]
     },
     "execution_count": 30,
     "metadata": {},
     "output_type": "execute_result"
    }
   ],
   "source": [
    "# Droping nan after cleaning\n",
    "df=df.dropna()\n",
    "df.head()"
   ]
  },
  {
   "cell_type": "code",
   "execution_count": 31,
   "metadata": {
    "slideshow": {
     "slide_type": "skip"
    }
   },
   "outputs": [
    {
     "name": "stdout",
     "output_type": "stream",
     "text": [
      "<class 'pandas.core.frame.DataFrame'>\n",
      "Int64Index: 31990 entries, 0 to 45463\n",
      "Data columns (total 17 columns):\n",
      " #   Column                Non-Null Count  Dtype         \n",
      "---  ------                --------------  -----         \n",
      " 0   adult                 31990 non-null  object        \n",
      " 1   budget                31990 non-null  float64       \n",
      " 2   genres                31990 non-null  object        \n",
      " 3   id                    31990 non-null  int32         \n",
      " 4   original_language     31990 non-null  object        \n",
      " 5   original_title        31990 non-null  object        \n",
      " 6   popularity            31990 non-null  float64       \n",
      " 7   production_companies  31990 non-null  object        \n",
      " 8   production_countries  31990 non-null  object        \n",
      " 9   release_date          31990 non-null  datetime64[ns]\n",
      " 10  revenue               31990 non-null  float64       \n",
      " 11  runtime               31990 non-null  float64       \n",
      " 12  spoken_languages      31990 non-null  object        \n",
      " 13  status                31990 non-null  object        \n",
      " 14  video                 31990 non-null  object        \n",
      " 15  vote_average          31990 non-null  float64       \n",
      " 16  vote_count            31990 non-null  float64       \n",
      "dtypes: datetime64[ns](1), float64(6), int32(1), object(9)\n",
      "memory usage: 4.3+ MB\n"
     ]
    }
   ],
   "source": [
    "df.info()"
   ]
  },
  {
   "cell_type": "code",
   "execution_count": 32,
   "metadata": {
    "slideshow": {
     "slide_type": "skip"
    }
   },
   "outputs": [
    {
     "name": "stdout",
     "output_type": "stream",
     "text": [
      "20\n"
     ]
    },
    {
     "data": {
      "text/plain": [
       "array(['Animation', 'Adventure', 'Romance', 'Comedy', 'Action', 'Family',\n",
       "       'History', 'Drama', 'Crime', 'Fantasy', 'Science Fiction', 'Music',\n",
       "       'Horror', 'Documentary', 'Mystery', 'Thriller', 'Western', 'War',\n",
       "       'TV Movie', 'Foreign'], dtype=object)"
      ]
     },
     "execution_count": 32,
     "metadata": {},
     "output_type": "execute_result"
    }
   ],
   "source": [
    "print(df.genres.nunique())\n",
    "df.genres.unique()"
   ]
  },
  {
   "cell_type": "code",
   "execution_count": 33,
   "metadata": {
    "slideshow": {
     "slide_type": "skip"
    }
   },
   "outputs": [
    {
     "data": {
      "text/html": [
       "<div>\n",
       "<style scoped>\n",
       "    .dataframe tbody tr th:only-of-type {\n",
       "        vertical-align: middle;\n",
       "    }\n",
       "\n",
       "    .dataframe tbody tr th {\n",
       "        vertical-align: top;\n",
       "    }\n",
       "\n",
       "    .dataframe thead th {\n",
       "        text-align: right;\n",
       "    }\n",
       "</style>\n",
       "<table border=\"1\" class=\"dataframe\">\n",
       "  <thead>\n",
       "    <tr style=\"text-align: right;\">\n",
       "      <th></th>\n",
       "      <th>budget</th>\n",
       "      <th>id</th>\n",
       "      <th>popularity</th>\n",
       "      <th>revenue</th>\n",
       "      <th>runtime</th>\n",
       "      <th>vote_average</th>\n",
       "      <th>vote_count</th>\n",
       "    </tr>\n",
       "  </thead>\n",
       "  <tbody>\n",
       "    <tr>\n",
       "      <th>budget</th>\n",
       "      <td>1.000000</td>\n",
       "      <td>-0.095861</td>\n",
       "      <td>0.435606</td>\n",
       "      <td>0.766689</td>\n",
       "      <td>0.159191</td>\n",
       "      <td>0.066755</td>\n",
       "      <td>0.671215</td>\n",
       "    </tr>\n",
       "    <tr>\n",
       "      <th>id</th>\n",
       "      <td>-0.095861</td>\n",
       "      <td>1.000000</td>\n",
       "      <td>-0.051652</td>\n",
       "      <td>-0.066822</td>\n",
       "      <td>-0.097464</td>\n",
       "      <td>-0.125983</td>\n",
       "      <td>-0.054252</td>\n",
       "    </tr>\n",
       "    <tr>\n",
       "      <th>popularity</th>\n",
       "      <td>0.435606</td>\n",
       "      <td>-0.051652</td>\n",
       "      <td>1.000000</td>\n",
       "      <td>0.500894</td>\n",
       "      <td>0.126823</td>\n",
       "      <td>0.144590</td>\n",
       "      <td>0.552231</td>\n",
       "    </tr>\n",
       "    <tr>\n",
       "      <th>revenue</th>\n",
       "      <td>0.766689</td>\n",
       "      <td>-0.066822</td>\n",
       "      <td>0.500894</td>\n",
       "      <td>1.000000</td>\n",
       "      <td>0.124737</td>\n",
       "      <td>0.091813</td>\n",
       "      <td>0.809647</td>\n",
       "    </tr>\n",
       "    <tr>\n",
       "      <th>runtime</th>\n",
       "      <td>0.159191</td>\n",
       "      <td>-0.097464</td>\n",
       "      <td>0.126823</td>\n",
       "      <td>0.124737</td>\n",
       "      <td>1.000000</td>\n",
       "      <td>0.153462</td>\n",
       "      <td>0.133413</td>\n",
       "    </tr>\n",
       "    <tr>\n",
       "      <th>vote_average</th>\n",
       "      <td>0.066755</td>\n",
       "      <td>-0.125983</td>\n",
       "      <td>0.144590</td>\n",
       "      <td>0.091813</td>\n",
       "      <td>0.153462</td>\n",
       "      <td>1.000000</td>\n",
       "      <td>0.140419</td>\n",
       "    </tr>\n",
       "    <tr>\n",
       "      <th>vote_count</th>\n",
       "      <td>0.671215</td>\n",
       "      <td>-0.054252</td>\n",
       "      <td>0.552231</td>\n",
       "      <td>0.809647</td>\n",
       "      <td>0.133413</td>\n",
       "      <td>0.140419</td>\n",
       "      <td>1.000000</td>\n",
       "    </tr>\n",
       "  </tbody>\n",
       "</table>\n",
       "</div>"
      ],
      "text/plain": [
       "                budget        id  popularity   revenue   runtime  \\\n",
       "budget        1.000000 -0.095861    0.435606  0.766689  0.159191   \n",
       "id           -0.095861  1.000000   -0.051652 -0.066822 -0.097464   \n",
       "popularity    0.435606 -0.051652    1.000000  0.500894  0.126823   \n",
       "revenue       0.766689 -0.066822    0.500894  1.000000  0.124737   \n",
       "runtime       0.159191 -0.097464    0.126823  0.124737  1.000000   \n",
       "vote_average  0.066755 -0.125983    0.144590  0.091813  0.153462   \n",
       "vote_count    0.671215 -0.054252    0.552231  0.809647  0.133413   \n",
       "\n",
       "              vote_average  vote_count  \n",
       "budget            0.066755    0.671215  \n",
       "id               -0.125983   -0.054252  \n",
       "popularity        0.144590    0.552231  \n",
       "revenue           0.091813    0.809647  \n",
       "runtime           0.153462    0.133413  \n",
       "vote_average      1.000000    0.140419  \n",
       "vote_count        0.140419    1.000000  "
      ]
     },
     "execution_count": 33,
     "metadata": {},
     "output_type": "execute_result"
    }
   ],
   "source": [
    "df.corr()"
   ]
  },
  {
   "cell_type": "markdown",
   "metadata": {
    "slideshow": {
     "slide_type": "slide"
    }
   },
   "source": [
    "# Data Visualization Part "
   ]
  },
  {
   "cell_type": "markdown",
   "metadata": {
    "slideshow": {
     "slide_type": "slide"
    }
   },
   "source": [
    "#  What are the most correlated features?"
   ]
  },
  {
   "cell_type": "code",
   "execution_count": 34,
   "metadata": {
    "slideshow": {
     "slide_type": "subslide"
    }
   },
   "outputs": [
    {
     "data": {
      "text/plain": [
       "Text(0.5, 1.0, 'Correlatino Between Featuers')"
      ]
     },
     "execution_count": 34,
     "metadata": {},
     "output_type": "execute_result"
    },
    {
     "data": {
      "image/png": "[encoded data removed]",
      "text/plain": [
       "<Figure size 720x360 with 2 Axes>"
      ]
     },
     "metadata": {
      "needs_background": "light"
     },
     "output_type": "display_data"
    }
   ],
   "source": [
    "plt.figure(figsize=(10,5))\n",
    "sns.heatmap(df.corr());\n",
    "plt.title(\"Correlatino Between Featuers\")"
   ]
  },
  {
   "cell_type": "markdown",
   "metadata": {
    "slideshow": {
     "slide_type": "slide"
    }
   },
   "source": [
    "### Correlation between Features.\n",
    "\n",
    "  - budget and revenue =0.76\n",
    "\n",
    "  - budget and vote_count 0.67\n",
    "\n",
    "  - popularity and revenue = 0.5\n",
    "\n",
    "  - popularity and vote_count = 0.55\n",
    "\n",
    "  - revenue and vote_count =0.8\n",
    "   "
   ]
  },
  {
   "cell_type": "code",
   "execution_count": 35,
   "metadata": {
    "slideshow": {
     "slide_type": "skip"
    }
   },
   "outputs": [
    {
     "data": {
      "text/plain": [
       "Index(['en', 'fr', 'ja', 'it', 'de', 'es', 'ru', 'hi', 'ko', 'sv'], dtype='object')"
      ]
     },
     "execution_count": 35,
     "metadata": {},
     "output_type": "execute_result"
    }
   ],
   "source": [
    "languages=df.original_language.value_counts().iloc[:10]\n",
    "languages.index"
   ]
  },
  {
   "cell_type": "markdown",
   "metadata": {
    "slideshow": {
     "slide_type": "skip"
    }
   },
   "source": [
    "# What is the most frequent Movies Status (Released,Rumored,...)?"
   ]
  },
  {
   "cell_type": "code",
   "execution_count": 131,
   "metadata": {
    "slideshow": {
     "slide_type": "skip"
    }
   },
   "outputs": [
    {
     "data": {
      "image/png": "[encoded data removed]",
      "text/plain": [
       "<Figure size 432x288 with 1 Axes>"
      ]
     },
     "metadata": {
      "needs_background": "light"
     },
     "output_type": "display_data"
    }
   ],
   "source": [
    "# Plotting Movies status, and Movies original languages.\n",
    "#fig, ax = plt.subplots(ncols=2, figsize = [15,8])\n",
    "\n",
    "default_color = sns.color_palette()[0]\n",
    "#sns.yticks(np.arange(500,10000+500,500))\n",
    "status_bins=np.arange(df.status.value_counts().min(), df.status.value_counts().max()+50,50)\n",
    "plt.title(\"The Most Frequent Movies's Status\",fontsize=13)\n",
    "plt.xticks(rotation=60)\n",
    "sns.countplot(data = df, x = 'status', color = default_color);\n"
   ]
  },
  {
   "cell_type": "markdown",
   "metadata": {
    "slideshow": {
     "slide_type": "skip"
    }
   },
   "source": [
    "# What is the Top 10 Frequent Languages in Movies?"
   ]
  },
  {
   "cell_type": "code",
   "execution_count": 126,
   "metadata": {
    "slideshow": {
     "slide_type": "skip"
    }
   },
   "outputs": [
    {
     "data": {
      "image/png": "[encoded data removed]",
      "text/plain": [
       "<Figure size 841.68x595.44 with 1 Axes>"
      ]
     },
     "metadata": {
      "needs_background": "light"
     },
     "output_type": "display_data"
    }
   ],
   "source": [
    "plt.figure(figsize=[ 11.69, 8.27])\n",
    "plt.title(\"The Most Frequent Movies's Language\",fontsize=13)\n",
    "languages.plot(kind='barh',color = default_color);"
   ]
  },
  {
   "cell_type": "code",
   "execution_count": 127,
   "metadata": {
    "slideshow": {
     "slide_type": "skip"
    }
   },
   "outputs": [
    {
     "data": {
      "text/plain": [
       "count    31990.000000\n",
       "mean         5.846746\n",
       "std          1.587855\n",
       "min          0.000000\n",
       "25%          5.300000\n",
       "50%          6.100000\n",
       "75%          6.800000\n",
       "max         10.000000\n",
       "Name: vote_average, dtype: float64"
      ]
     },
     "execution_count": 127,
     "metadata": {},
     "output_type": "execute_result"
    }
   ],
   "source": [
    "df.vote_average.describe()"
   ]
  },
  {
   "cell_type": "markdown",
   "metadata": {
    "slideshow": {
     "slide_type": "skip"
    }
   },
   "source": [
    "## Vote_Avetage Distribution.\n",
    "**Vote_average is normally distributed but there's approximately 1000 vote_average ==0, It might be sth wrong in the data, or missing values in the original data that replaced with 0**"
   ]
  },
  {
   "cell_type": "code",
   "execution_count": 39,
   "metadata": {
    "slideshow": {
     "slide_type": "skip"
    }
   },
   "outputs": [
    {
     "data": {
      "image/png": "[encoded data removed]",
      "text/plain": [
       "<Figure size 432x288 with 1 Axes>"
      ]
     },
     "metadata": {
      "needs_background": "light"
     },
     "output_type": "display_data"
    }
   ],
   "source": [
    "vote_avg_bins=np.arange(0,10+0.5,0.5)\n",
    "plt.hist(data=df, x='vote_average',bins=vote_avg_bins);\n",
    "plt.title('Vote_Average Distribution');"
   ]
  },
  {
   "cell_type": "code",
   "execution_count": 40,
   "metadata": {
    "slideshow": {
     "slide_type": "skip"
    }
   },
   "outputs": [
    {
     "data": {
      "text/plain": [
       "count    31990.000000\n",
       "mean         3.784131\n",
       "std          6.917325\n",
       "min          0.000000\n",
       "25%          0.660899\n",
       "50%          1.768506\n",
       "75%          5.518635\n",
       "max        547.488298\n",
       "Name: popularity, dtype: float64"
      ]
     },
     "execution_count": 40,
     "metadata": {},
     "output_type": "execute_result"
    }
   ],
   "source": [
    "df.popularity.describe()"
   ]
  },
  {
   "cell_type": "code",
   "execution_count": 41,
   "metadata": {
    "slideshow": {
     "slide_type": "skip"
    }
   },
   "outputs": [
    {
     "data": {
      "text/html": [
       "<div>\n",
       "<style scoped>\n",
       "    .dataframe tbody tr th:only-of-type {\n",
       "        vertical-align: middle;\n",
       "    }\n",
       "\n",
       "    .dataframe tbody tr th {\n",
       "        vertical-align: top;\n",
       "    }\n",
       "\n",
       "    .dataframe thead th {\n",
       "        text-align: right;\n",
       "    }\n",
       "</style>\n",
       "<table border=\"1\" class=\"dataframe\">\n",
       "  <thead>\n",
       "    <tr style=\"text-align: right;\">\n",
       "      <th></th>\n",
       "      <th>adult</th>\n",
       "      <th>budget</th>\n",
       "      <th>genres</th>\n",
       "      <th>id</th>\n",
       "      <th>original_language</th>\n",
       "      <th>original_title</th>\n",
       "      <th>popularity</th>\n",
       "      <th>production_companies</th>\n",
       "      <th>production_countries</th>\n",
       "      <th>release_date</th>\n",
       "      <th>revenue</th>\n",
       "      <th>runtime</th>\n",
       "      <th>spoken_languages</th>\n",
       "      <th>status</th>\n",
       "      <th>video</th>\n",
       "      <th>vote_average</th>\n",
       "      <th>vote_count</th>\n",
       "    </tr>\n",
       "  </thead>\n",
       "  <tbody>\n",
       "    <tr>\n",
       "      <th>30700</th>\n",
       "      <td>False</td>\n",
       "      <td>74000000.0</td>\n",
       "      <td>Family</td>\n",
       "      <td>211672</td>\n",
       "      <td>en</td>\n",
       "      <td>Minions</td>\n",
       "      <td>547.488298</td>\n",
       "      <td>Universal Pictures</td>\n",
       "      <td>United States of America</td>\n",
       "      <td>2015-06-17</td>\n",
       "      <td>1.156731e+09</td>\n",
       "      <td>91.0</td>\n",
       "      <td>English</td>\n",
       "      <td>Released</td>\n",
       "      <td>False</td>\n",
       "      <td>6.4</td>\n",
       "      <td>4729.0</td>\n",
       "    </tr>\n",
       "  </tbody>\n",
       "</table>\n",
       "</div>"
      ],
      "text/plain": [
       "       adult      budget  genres      id original_language original_title  \\\n",
       "30700  False  74000000.0  Family  211672                en        Minions   \n",
       "\n",
       "       popularity production_companies      production_countries release_date  \\\n",
       "30700  547.488298   Universal Pictures  United States of America   2015-06-17   \n",
       "\n",
       "            revenue  runtime spoken_languages    status  video  vote_average  \\\n",
       "30700  1.156731e+09     91.0          English  Released  False           6.4   \n",
       "\n",
       "       vote_count  \n",
       "30700      4729.0  "
      ]
     },
     "execution_count": 41,
     "metadata": {},
     "output_type": "execute_result"
    }
   ],
   "source": [
    "df[df.popularity ==df.popularity.max()]"
   ]
  },
  {
   "cell_type": "markdown",
   "metadata": {
    "slideshow": {
     "slide_type": "skip"
    }
   },
   "source": [
    "# What is Popularity Distribution?"
   ]
  },
  {
   "cell_type": "markdown",
   "metadata": {
    "slideshow": {
     "slide_type": "skip"
    }
   },
   "source": [
    "**I think popularity needs transformation**"
   ]
  },
  {
   "cell_type": "code",
   "execution_count": 42,
   "metadata": {
    "slideshow": {
     "slide_type": "skip"
    }
   },
   "outputs": [
    {
     "data": {
      "image/png": "[encoded data removed]",
      "text/plain": [
       "<Figure size 432x288 with 1 Axes>"
      ]
     },
     "metadata": {
      "needs_background": "light"
     },
     "output_type": "display_data"
    }
   ],
   "source": [
    "popularity_bins=np.arange(0,30+1,1)\n",
    "plt.hist(data=df, x='popularity',bins=popularity_bins);\n",
    "plt.title('popularity Distribution');"
   ]
  },
  {
   "cell_type": "markdown",
   "metadata": {
    "slideshow": {
     "slide_type": "skip"
    }
   },
   "source": [
    "**After transformation**"
   ]
  },
  {
   "cell_type": "code",
   "execution_count": 43,
   "metadata": {
    "slideshow": {
     "slide_type": "skip"
    }
   },
   "outputs": [
    {
     "data": {
      "image/png": "[encoded data removed]",
      "text/plain": [
       "<Figure size 432x288 with 1 Axes>"
      ]
     },
     "metadata": {
      "needs_background": "light"
     },
     "output_type": "display_data"
    }
   ],
   "source": [
    "popularity_bins=10 ** np.arange(-1,3 +0.1, 0.1)\n",
    "popularity_ticks=[0.1,0.3,1,3,10,30,100,300,1000]\n",
    "labels=['{}'.format( v) for v in popularity_ticks]\n",
    "plt.hist(data=df, x='popularity', bins=popularity_bins);\n",
    "plt.xscale('log')\n",
    "plt.xticks(popularity_ticks, labels);\n",
    "plt.title('Popularity Distribution.');"
   ]
  },
  {
   "cell_type": "code",
   "execution_count": 44,
   "metadata": {
    "slideshow": {
     "slide_type": "skip"
    }
   },
   "outputs": [],
   "source": [
    "# Dropping rows with budget and revenue equal to zero. \n",
    "#df.drop(df.query(\"budget== budget.min()  and revenue==revenue.min()\").index, inplace = True) \n"
   ]
  },
  {
   "cell_type": "code",
   "execution_count": 45,
   "metadata": {
    "slideshow": {
     "slide_type": "skip"
    }
   },
   "outputs": [
    {
     "data": {
      "text/html": [
       "<div>\n",
       "<style scoped>\n",
       "    .dataframe tbody tr th:only-of-type {\n",
       "        vertical-align: middle;\n",
       "    }\n",
       "\n",
       "    .dataframe tbody tr th {\n",
       "        vertical-align: top;\n",
       "    }\n",
       "\n",
       "    .dataframe thead th {\n",
       "        text-align: right;\n",
       "    }\n",
       "</style>\n",
       "<table border=\"1\" class=\"dataframe\">\n",
       "  <thead>\n",
       "    <tr style=\"text-align: right;\">\n",
       "      <th></th>\n",
       "      <th>adult</th>\n",
       "      <th>budget</th>\n",
       "      <th>genres</th>\n",
       "      <th>id</th>\n",
       "      <th>original_language</th>\n",
       "      <th>original_title</th>\n",
       "      <th>popularity</th>\n",
       "      <th>production_companies</th>\n",
       "      <th>production_countries</th>\n",
       "      <th>release_date</th>\n",
       "      <th>revenue</th>\n",
       "      <th>runtime</th>\n",
       "      <th>spoken_languages</th>\n",
       "      <th>status</th>\n",
       "      <th>video</th>\n",
       "      <th>vote_average</th>\n",
       "      <th>vote_count</th>\n",
       "    </tr>\n",
       "  </thead>\n",
       "  <tbody>\n",
       "    <tr>\n",
       "      <th>2</th>\n",
       "      <td>False</td>\n",
       "      <td>0.0</td>\n",
       "      <td>Romance</td>\n",
       "      <td>15602</td>\n",
       "      <td>en</td>\n",
       "      <td>Grumpier Old Men</td>\n",
       "      <td>11.712900</td>\n",
       "      <td>Warner Bros.</td>\n",
       "      <td>United States of America</td>\n",
       "      <td>1995-12-22</td>\n",
       "      <td>0.0</td>\n",
       "      <td>101.0</td>\n",
       "      <td>English</td>\n",
       "      <td>Released</td>\n",
       "      <td>False</td>\n",
       "      <td>6.5</td>\n",
       "      <td>92.0</td>\n",
       "    </tr>\n",
       "    <tr>\n",
       "      <th>7</th>\n",
       "      <td>False</td>\n",
       "      <td>0.0</td>\n",
       "      <td>Action</td>\n",
       "      <td>45325</td>\n",
       "      <td>en</td>\n",
       "      <td>Tom and Huck</td>\n",
       "      <td>2.561161</td>\n",
       "      <td>Walt Disney Pictures</td>\n",
       "      <td>United States of America</td>\n",
       "      <td>1995-12-22</td>\n",
       "      <td>0.0</td>\n",
       "      <td>97.0</td>\n",
       "      <td>English</td>\n",
       "      <td>Released</td>\n",
       "      <td>False</td>\n",
       "      <td>5.4</td>\n",
       "      <td>45.0</td>\n",
       "    </tr>\n",
       "    <tr>\n",
       "      <th>11</th>\n",
       "      <td>False</td>\n",
       "      <td>0.0</td>\n",
       "      <td>Comedy</td>\n",
       "      <td>12110</td>\n",
       "      <td>en</td>\n",
       "      <td>Dracula: Dead and Loving It</td>\n",
       "      <td>5.430331</td>\n",
       "      <td>Columbia Pictures</td>\n",
       "      <td>France</td>\n",
       "      <td>1995-12-22</td>\n",
       "      <td>0.0</td>\n",
       "      <td>88.0</td>\n",
       "      <td>English</td>\n",
       "      <td>Released</td>\n",
       "      <td>False</td>\n",
       "      <td>5.7</td>\n",
       "      <td>210.0</td>\n",
       "    </tr>\n",
       "    <tr>\n",
       "      <th>21</th>\n",
       "      <td>False</td>\n",
       "      <td>0.0</td>\n",
       "      <td>Drama</td>\n",
       "      <td>1710</td>\n",
       "      <td>en</td>\n",
       "      <td>Copycat</td>\n",
       "      <td>10.701801</td>\n",
       "      <td>Regency Enterprises</td>\n",
       "      <td>United States of America</td>\n",
       "      <td>1995-10-27</td>\n",
       "      <td>0.0</td>\n",
       "      <td>124.0</td>\n",
       "      <td>English</td>\n",
       "      <td>Released</td>\n",
       "      <td>False</td>\n",
       "      <td>6.5</td>\n",
       "      <td>199.0</td>\n",
       "    </tr>\n",
       "    <tr>\n",
       "      <th>23</th>\n",
       "      <td>False</td>\n",
       "      <td>0.0</td>\n",
       "      <td>Drama</td>\n",
       "      <td>12665</td>\n",
       "      <td>en</td>\n",
       "      <td>Powder</td>\n",
       "      <td>12.133094</td>\n",
       "      <td>Caravan Pictures</td>\n",
       "      <td>United States of America</td>\n",
       "      <td>1995-10-27</td>\n",
       "      <td>0.0</td>\n",
       "      <td>111.0</td>\n",
       "      <td>English</td>\n",
       "      <td>Released</td>\n",
       "      <td>False</td>\n",
       "      <td>6.3</td>\n",
       "      <td>143.0</td>\n",
       "    </tr>\n",
       "    <tr>\n",
       "      <th>...</th>\n",
       "      <td>...</td>\n",
       "      <td>...</td>\n",
       "      <td>...</td>\n",
       "      <td>...</td>\n",
       "      <td>...</td>\n",
       "      <td>...</td>\n",
       "      <td>...</td>\n",
       "      <td>...</td>\n",
       "      <td>...</td>\n",
       "      <td>...</td>\n",
       "      <td>...</td>\n",
       "      <td>...</td>\n",
       "      <td>...</td>\n",
       "      <td>...</td>\n",
       "      <td>...</td>\n",
       "      <td>...</td>\n",
       "      <td>...</td>\n",
       "    </tr>\n",
       "    <tr>\n",
       "      <th>45458</th>\n",
       "      <td>False</td>\n",
       "      <td>0.0</td>\n",
       "      <td>Horror</td>\n",
       "      <td>289923</td>\n",
       "      <td>en</td>\n",
       "      <td>The Burkittsville 7</td>\n",
       "      <td>0.386450</td>\n",
       "      <td>Neptune Salad Entertainment</td>\n",
       "      <td>United States of America</td>\n",
       "      <td>2000-10-03</td>\n",
       "      <td>0.0</td>\n",
       "      <td>30.0</td>\n",
       "      <td>English</td>\n",
       "      <td>Released</td>\n",
       "      <td>False</td>\n",
       "      <td>7.0</td>\n",
       "      <td>1.0</td>\n",
       "    </tr>\n",
       "    <tr>\n",
       "      <th>45459</th>\n",
       "      <td>False</td>\n",
       "      <td>0.0</td>\n",
       "      <td>Science Fiction</td>\n",
       "      <td>222848</td>\n",
       "      <td>en</td>\n",
       "      <td>Caged Heat 3000</td>\n",
       "      <td>0.661558</td>\n",
       "      <td>Concorde-New Horizons</td>\n",
       "      <td>United States of America</td>\n",
       "      <td>1995-01-01</td>\n",
       "      <td>0.0</td>\n",
       "      <td>85.0</td>\n",
       "      <td>English</td>\n",
       "      <td>Released</td>\n",
       "      <td>False</td>\n",
       "      <td>3.5</td>\n",
       "      <td>1.0</td>\n",
       "    </tr>\n",
       "    <tr>\n",
       "      <th>45460</th>\n",
       "      <td>False</td>\n",
       "      <td>0.0</td>\n",
       "      <td>Drama</td>\n",
       "      <td>30840</td>\n",
       "      <td>en</td>\n",
       "      <td>Robin Hood</td>\n",
       "      <td>5.683753</td>\n",
       "      <td>Westdeutscher Rundfunk (WDR)</td>\n",
       "      <td>Canada</td>\n",
       "      <td>1991-05-13</td>\n",
       "      <td>0.0</td>\n",
       "      <td>104.0</td>\n",
       "      <td>English</td>\n",
       "      <td>Released</td>\n",
       "      <td>False</td>\n",
       "      <td>5.7</td>\n",
       "      <td>26.0</td>\n",
       "    </tr>\n",
       "    <tr>\n",
       "      <th>45462</th>\n",
       "      <td>False</td>\n",
       "      <td>0.0</td>\n",
       "      <td>Drama</td>\n",
       "      <td>111109</td>\n",
       "      <td>tl</td>\n",
       "      <td>Siglo ng Pagluluwal</td>\n",
       "      <td>0.178241</td>\n",
       "      <td>Sine Olivia</td>\n",
       "      <td>Philippines</td>\n",
       "      <td>2011-11-17</td>\n",
       "      <td>0.0</td>\n",
       "      <td>360.0</td>\n",
       "      <td></td>\n",
       "      <td>Released</td>\n",
       "      <td>False</td>\n",
       "      <td>9.0</td>\n",
       "      <td>3.0</td>\n",
       "    </tr>\n",
       "    <tr>\n",
       "      <th>45463</th>\n",
       "      <td>False</td>\n",
       "      <td>0.0</td>\n",
       "      <td>Action</td>\n",
       "      <td>67758</td>\n",
       "      <td>en</td>\n",
       "      <td>Betrayal</td>\n",
       "      <td>0.903007</td>\n",
       "      <td>American World Pictures</td>\n",
       "      <td>United States of America</td>\n",
       "      <td>2003-08-01</td>\n",
       "      <td>0.0</td>\n",
       "      <td>90.0</td>\n",
       "      <td>English</td>\n",
       "      <td>Released</td>\n",
       "      <td>False</td>\n",
       "      <td>3.8</td>\n",
       "      <td>6.0</td>\n",
       "    </tr>\n",
       "  </tbody>\n",
       "</table>\n",
       "<p>22180 rows × 17 columns</p>\n",
       "</div>"
      ],
      "text/plain": [
       "       adult  budget           genres      id original_language  \\\n",
       "2      False     0.0          Romance   15602                en   \n",
       "7      False     0.0           Action   45325                en   \n",
       "11     False     0.0           Comedy   12110                en   \n",
       "21     False     0.0            Drama    1710                en   \n",
       "23     False     0.0            Drama   12665                en   \n",
       "...      ...     ...              ...     ...               ...   \n",
       "45458  False     0.0           Horror  289923                en   \n",
       "45459  False     0.0  Science Fiction  222848                en   \n",
       "45460  False     0.0            Drama   30840                en   \n",
       "45462  False     0.0            Drama  111109                tl   \n",
       "45463  False     0.0           Action   67758                en   \n",
       "\n",
       "                    original_title  popularity          production_companies  \\\n",
       "2                 Grumpier Old Men   11.712900                  Warner Bros.   \n",
       "7                     Tom and Huck    2.561161          Walt Disney Pictures   \n",
       "11     Dracula: Dead and Loving It    5.430331             Columbia Pictures   \n",
       "21                         Copycat   10.701801           Regency Enterprises   \n",
       "23                          Powder   12.133094              Caravan Pictures   \n",
       "...                            ...         ...                           ...   \n",
       "45458          The Burkittsville 7    0.386450   Neptune Salad Entertainment   \n",
       "45459              Caged Heat 3000    0.661558         Concorde-New Horizons   \n",
       "45460                   Robin Hood    5.683753  Westdeutscher Rundfunk (WDR)   \n",
       "45462          Siglo ng Pagluluwal    0.178241                   Sine Olivia   \n",
       "45463                     Betrayal    0.903007       American World Pictures   \n",
       "\n",
       "           production_countries release_date  revenue  runtime  \\\n",
       "2      United States of America   1995-12-22      0.0    101.0   \n",
       "7      United States of America   1995-12-22      0.0     97.0   \n",
       "11                       France   1995-12-22      0.0     88.0   \n",
       "21     United States of America   1995-10-27      0.0    124.0   \n",
       "23     United States of America   1995-10-27      0.0    111.0   \n",
       "...                         ...          ...      ...      ...   \n",
       "45458  United States of America   2000-10-03      0.0     30.0   \n",
       "45459  United States of America   1995-01-01      0.0     85.0   \n",
       "45460                    Canada   1991-05-13      0.0    104.0   \n",
       "45462               Philippines   2011-11-17      0.0    360.0   \n",
       "45463  United States of America   2003-08-01      0.0     90.0   \n",
       "\n",
       "      spoken_languages    status  video  vote_average  vote_count  \n",
       "2              English  Released  False           6.5        92.0  \n",
       "7              English  Released  False           5.4        45.0  \n",
       "11             English  Released  False           5.7       210.0  \n",
       "21             English  Released  False           6.5       199.0  \n",
       "23             English  Released  False           6.3       143.0  \n",
       "...                ...       ...    ...           ...         ...  \n",
       "45458          English  Released  False           7.0         1.0  \n",
       "45459          English  Released  False           3.5         1.0  \n",
       "45460          English  Released  False           5.7        26.0  \n",
       "45462                   Released  False           9.0         3.0  \n",
       "45463          English  Released  False           3.8         6.0  \n",
       "\n",
       "[22180 rows x 17 columns]"
      ]
     },
     "execution_count": 45,
     "metadata": {},
     "output_type": "execute_result"
    }
   ],
   "source": [
    "# Checking\n",
    "df.query(\"budget== budget.min() and revenue==revenue.min()\")"
   ]
  },
  {
   "cell_type": "markdown",
   "metadata": {
    "slideshow": {
     "slide_type": "slide"
    }
   },
   "source": [
    "# What is the top 10 countries with the highest count of production companies?"
   ]
  },
  {
   "cell_type": "code",
   "execution_count": 123,
   "metadata": {
    "slideshow": {
     "slide_type": "subslide"
    }
   },
   "outputs": [
    {
     "data": {
      "image/png": "[encoded data removed]",
      "text/plain": [
       "<Figure size 432x288 with 1 Axes>"
      ]
     },
     "metadata": {
      "needs_background": "light"
     },
     "output_type": "display_data"
    }
   ],
   "source": [
    "df.groupby('production_countries').production_companies.nunique().sort_values(ascending=False).to_frame('count').iloc[:10] .plot(kind='barh');\n",
    "plt.xlabel(\"Count\",fontsize=13)\n",
    "plt.ylabel(\"Production Countries\",fontsize=13)\n",
    "plt.title('TOP 10 countries with production companies.',fontsize=13);\n",
    "\n",
    "plt.legend().remove();"
   ]
  },
  {
   "cell_type": "markdown",
   "metadata": {
    "slideshow": {
     "slide_type": "slide"
    }
   },
   "source": [
    "## TOP 10 countries with production companies.\n",
    "**United states of America has the highest number of production companies with more than 4000 companies, United Kingdom came in the second place with more than 1000 companies.**"
   ]
  },
  {
   "cell_type": "markdown",
   "metadata": {
    "slideshow": {
     "slide_type": "slide"
    }
   },
   "source": [
    "# What is the most productive country of movies?"
   ]
  },
  {
   "cell_type": "code",
   "execution_count": 118,
   "metadata": {
    "slideshow": {
     "slide_type": "subslide"
    }
   },
   "outputs": [
    {
     "data": {
      "image/png": "[encoded data removed]",
      "text/plain": [
       "<Figure size 841.68x595.44 with 1 Axes>"
      ]
     },
     "metadata": {
      "needs_background": "light"
     },
     "output_type": "display_data"
    }
   ],
   "source": [
    "plt.figure(figsize=[ 11.69, 8.27])\n",
    "base_color = sns.color_palette()[0]\n",
    "ax=sns.countplot(data=df, y='production_countries', \n",
    "              color=base_color,\n",
    "              order=df.production_countries.value_counts().iloc[:10].index,\n",
    "              #hue=df.genres.value_counts().iloc[:3]\n",
    "                );\n",
    "plt.xticks(rotation=30);\n",
    "plt.title(\"Top 10 Productibe countries for Movies\",fontsize=13);"
   ]
  },
  {
   "cell_type": "markdown",
   "metadata": {
    "slideshow": {
     "slide_type": "slide"
    }
   },
   "source": [
    "### Top 10 Production Countries for Movies.\n",
    "**The highest productive country for movies is United states of America with more than 14k, then United kingdom with more than 2000**\n",
    "\n",
    "   Japan is the fifth productive country to movies in this dataset but it's in the seventh place in the number of production companies, while Spain is the tenth productive country to movies in this dataset but it's the eighth place in the number production companies.\n",
    "   \n",
    "   seems like number of production companies in each country is not a big indicator of the country movies production in some cases."
   ]
  },
  {
   "cell_type": "code",
   "execution_count": 48,
   "metadata": {
    "slideshow": {
     "slide_type": "skip"
    }
   },
   "outputs": [
    {
     "data": {
      "text/plain": [
       "count    31990.000000\n",
       "mean         5.846746\n",
       "std          1.587855\n",
       "min          0.000000\n",
       "25%          5.300000\n",
       "50%          6.100000\n",
       "75%          6.800000\n",
       "max         10.000000\n",
       "Name: vote_average, dtype: float64"
      ]
     },
     "execution_count": 48,
     "metadata": {},
     "output_type": "execute_result"
    }
   ],
   "source": [
    "df.vote_average.describe()"
   ]
  },
  {
   "cell_type": "code",
   "execution_count": 49,
   "metadata": {
    "slideshow": {
     "slide_type": "skip"
    }
   },
   "outputs": [
    {
     "name": "stderr",
     "output_type": "stream",
     "text": [
      "C:\\Users\\User\\Anaconda3\\lib\\site-packages\\ipykernel_launcher.py:1: FutureWarning: Treating datetime data as categorical rather than numeric in `.describe` is deprecated and will be removed in a future version of pandas. Specify `datetime_is_numeric=True` to silence this warning and adopt the future behavior now.\n",
      "  \"\"\"Entry point for launching an IPython kernel.\n"
     ]
    },
    {
     "data": {
      "text/plain": [
       "count                   31990\n",
       "unique                  14907\n",
       "top       2008-01-01 00:00:00\n",
       "freq                       58\n",
       "first     1878-06-14 00:00:00\n",
       "last      2020-12-16 00:00:00\n",
       "Name: release_date, dtype: object"
      ]
     },
     "execution_count": 49,
     "metadata": {},
     "output_type": "execute_result"
    }
   ],
   "source": [
    "df.release_date.describe()"
   ]
  },
  {
   "cell_type": "markdown",
   "metadata": {
    "slideshow": {
     "slide_type": "slide"
    }
   },
   "source": [
    "# What is the vote average among years (1950-2018)?"
   ]
  },
  {
   "cell_type": "code",
   "execution_count": 50,
   "metadata": {
    "slideshow": {
     "slide_type": "skip"
    }
   },
   "outputs": [],
   "source": [
    "df['years'] = df['release_date'].apply(lambda x: x.year)\n",
    "df['profit'] = df['revenue'] - df['budget']"
   ]
  },
  {
   "cell_type": "code",
   "execution_count": 117,
   "metadata": {
    "scrolled": false,
    "slideshow": {
     "slide_type": "subslide"
    }
   },
   "outputs": [
    {
     "data": {
      "image/png": "[encoded data removed]",
      "text/plain": [
       "<Figure size 720x432 with 1 Axes>"
      ]
     },
     "metadata": {
      "needs_background": "light"
     },
     "output_type": "display_data"
    }
   ],
   "source": [
    "plt.figure(figsize=(10,6))\n",
    "df[(df['years'] < 2018) & (df['years'] >= 1950)].groupby(by = 'years').mean()['vote_average'].plot();\n",
    "plt.ylabel(\"Vote Average\",fontsize=13)\n",
    "plt.xlabel(\"Years\",fontsize=13)\n",
    "\n",
    "plt.title(\"Vote Avgerage | 1950-2018\",fontsize=13);"
   ]
  },
  {
   "cell_type": "markdown",
   "metadata": {
    "slideshow": {
     "slide_type": "slide"
    }
   },
   "source": [
    "## Vote Average in (1950-2018)\n",
    "**Notice the highest vote average was around 1960 and the lowest was before 1970**\n",
    "\n",
    "in the future we may study why there was a drop in vote average before 1970 ?! "
   ]
  },
  {
   "cell_type": "markdown",
   "metadata": {
    "slideshow": {
     "slide_type": "slide"
    }
   },
   "source": [
    "# What are Budget and Revenue distributions?"
   ]
  },
  {
   "cell_type": "code",
   "execution_count": 116,
   "metadata": {
    "slideshow": {
     "slide_type": "subslide"
    }
   },
   "outputs": [
    {
     "data": {
      "image/png": "[encoded data removed]",
      "text/plain": [
       "<Figure size 841.68x595.44 with 1 Axes>"
      ]
     },
     "metadata": {
      "needs_background": "light"
     },
     "output_type": "display_data"
    }
   ],
   "source": [
    "# there's a long tail in the distribution, so let's put it on a log scale instead\n",
    "#log_binsize = 0.025\n",
    "log_binsize = 0.09\n",
    "\n",
    "budget_bins = 10 ** np.arange(2.4, np.log10(df['budget'].max())+log_binsize, log_binsize)\n",
    "revenue_bins = 10 ** np.arange(2.4, np.log10(df['revenue'].max())+log_binsize, log_binsize)\n",
    "\n",
    "#plt.figure(figsize=[8, 5])\n",
    "plt.figure(figsize=[ 11.69, 8.27])\n",
    "plt.hist(data = df, x = 'budget', bins = budget_bins,alpha=0.5)\n",
    "plt.hist(data = df, x = 'revenue', bins = revenue_bins,alpha=0.5)\n",
    "\n",
    "plt.xscale('log')\n",
    "#plt.xticks([500, 1e3, 2e3, 5e3, 1e4, 2e4], [500, '1k', '2k', '5k', '10k', '20k'])\n",
    "#plt.xticks([500, 10^3, 10^4, 10^5, 10^6, 10^8], [500, '1k', '10k', '1M', '10M', '10B'])\n",
    "\n",
    "plt.xlabel('Budget ($)',fontsize=13)\n",
    "plt.ylabel('Frequency',fontsize=13)\n",
    "\n",
    "plt.title('Budget & Revenue Distributions',fontsize=13)\n",
    "plt.legend(['budget','revenue'])\n",
    "plt.show()"
   ]
  },
  {
   "cell_type": "markdown",
   "metadata": {
    "slideshow": {
     "slide_type": "slide"
    }
   },
   "source": [
    "## Budget and Revenue Distributions.\n",
    "**Both budget and revenue are skewed to the right, Most movies budget and revenue are higher than million dollar**"
   ]
  },
  {
   "cell_type": "markdown",
   "metadata": {
    "slideshow": {
     "slide_type": "skip"
    }
   },
   "source": [
    "# What is the correlation and between Budget and Revenue?"
   ]
  },
  {
   "cell_type": "markdown",
   "metadata": {
    "slideshow": {
     "slide_type": "skip"
    }
   },
   "source": [
    "## Correlation Between Budget and Revenue\n",
    "**There's high and strong correlation between budget and revenue**"
   ]
  },
  {
   "cell_type": "code",
   "execution_count": 109,
   "metadata": {
    "slideshow": {
     "slide_type": "skip"
    }
   },
   "outputs": [
    {
     "data": {
      "image/png": "[encoded data removed]",
      "text/plain": [
       "<Figure size 432x288 with 1 Axes>"
      ]
     },
     "metadata": {
      "needs_background": "light"
     },
     "output_type": "display_data"
    }
   ],
   "source": [
    "sns.regplot(data = df, x = 'budget', y = 'revenue')\n",
    "plt.ylabel(\"Revenue $\")\n",
    "plt.xlabel(\"Budget $\")\n",
    "plt.title(\"Revenue Vs Budget\");"
   ]
  },
  {
   "cell_type": "markdown",
   "metadata": {
    "slideshow": {
     "slide_type": "skip"
    }
   },
   "source": [
    "**since there is a high correlation between budget and revenue, then I have more questions about it**\n"
   ]
  },
  {
   "cell_type": "markdown",
   "metadata": {
    "slideshow": {
     "slide_type": "slide"
    }
   },
   "source": [
    "\n",
    "# What is Budget, Revenue and Profit Trend among years(1950-2018)?\n"
   ]
  },
  {
   "cell_type": "code",
   "execution_count": 101,
   "metadata": {
    "slideshow": {
     "slide_type": "subslide"
    }
   },
   "outputs": [
    {
     "data": {
      "image/png": "[encoded data removed]",
      "text/plain": [
       "<Figure size 841.68x595.44 with 1 Axes>"
      ]
     },
     "metadata": {
      "needs_background": "light"
     },
     "output_type": "display_data"
    }
   ],
   "source": [
    "# Plotting budget and revenue among years from 1950 till 2018\n",
    "#plt.figure(figsize=(10,6))\n",
    "plt.figure(figsize=[ 11.69, 8.27])\n",
    "df[(df['years'] < 2018) & (df['years'] >= 1950)].groupby(by = 'years').mean()['budget'].plot();\n",
    "df[(df['years'] < 2018) & (df['years'] >= 1950)].groupby(by = 'years').mean()['revenue'].plot();\n",
    "df[(df['years'] < 2018) & (df['years'] >= 1950)].groupby(by = 'years').mean()['profit'].plot();\n",
    "\n",
    "plt.legend() \n",
    "#plt.yticks(np.arange(df.budget.min(), df.budget.max()+500000,500000),['0 M','0.5 M','1 M','1.5 M','2 M','2.5 M', '3 M','3.5 M'])\n",
    "plt.ylabel(\"Million Dollars $\")\n",
    "plt.title(\"Budget $, Revenue $, Profit $ | 1950-2018\");"
   ]
  },
  {
   "cell_type": "markdown",
   "metadata": {
    "slideshow": {
     "slide_type": "slide"
    }
   },
   "source": [
    "## Budget, Revenue and Profit in (1950-2018)\n",
    "**Remarkable upward trend in budget, revenue and profit among years. \n",
    "    revenue and profit are approximately identical in many years, but before 1980 profit started to be a lot less than revenue and that became obvious and increased among years.**"
   ]
  },
  {
   "cell_type": "markdown",
   "metadata": {
    "slideshow": {
     "slide_type": "skip"
    }
   },
   "source": [
    "## Drama, Comedy, Action, Horror Movies Dataframe\n",
    "**Here we subset our dataframe to work with the most common movies genres**\n",
    "\n",
    "**We got 21405 rows in this new dataframe**"
   ]
  },
  {
   "cell_type": "code",
   "execution_count": 55,
   "metadata": {
    "slideshow": {
     "slide_type": "skip"
    }
   },
   "outputs": [
    {
     "data": {
      "text/plain": [
       "(21405, 19)"
      ]
     },
     "execution_count": 55,
     "metadata": {},
     "output_type": "execute_result"
    }
   ],
   "source": [
    "genres_df= df.query('genres==[\"Drama\",\"Comedy\",\"Action\",\"Horror\"]')\n",
    "genres_df.shape"
   ]
  },
  {
   "cell_type": "code",
   "execution_count": 56,
   "metadata": {
    "slideshow": {
     "slide_type": "skip"
    }
   },
   "outputs": [
    {
     "data": {
      "text/plain": [
       "Released           21289\n",
       "Rumored               66\n",
       "Post Production       36\n",
       "In Production         10\n",
       "Planned                4\n",
       "Name: status, dtype: int64"
      ]
     },
     "execution_count": 56,
     "metadata": {},
     "output_type": "execute_result"
    }
   ],
   "source": [
    "genres_df.status.value_counts()"
   ]
  },
  {
   "cell_type": "markdown",
   "metadata": {
    "slideshow": {
     "slide_type": "slide"
    }
   },
   "source": [
    "# Multivariate Visualizations."
   ]
  },
  {
   "cell_type": "markdown",
   "metadata": {
    "slideshow": {
     "slide_type": "slide"
    }
   },
   "source": [
    "# What is the highest vote count and in which status and in which movie genre?\n"
   ]
  },
  {
   "cell_type": "code",
   "execution_count": 65,
   "metadata": {
    "slideshow": {
     "slide_type": "subslide"
    }
   },
   "outputs": [
    {
     "data": {
      "image/png": "[encoded data removed]",
      "text/plain": [
       "<Figure size 2160x1152 with 1 Axes>"
      ]
     },
     "execution_count": 65,
     "metadata": {},
     "output_type": "execute_result"
    }
   ],
   "source": [
    "#Multivariate Visualization.\n",
    "# Plotting status on x-axis and vote_count median on y-axis with genres as colored bars \n",
    "#plt.figure(figsize=(10,8))\n",
    "dxp.bar(x='status',\n",
    "        y='vote_count',\n",
    "        data=genres_df,\n",
    "        aggfunc='median',\n",
    "        split='genres',\n",
    "        title=\"Status | Vote count(Median) | Genres\" ,\n",
    "        figsize=(15,8))\n",
    "#dxp.count(val='status', data=genres_df, split='genres',normalize='status')\n",
    "#plt.yticks(np.arange(genres_df.status.value_counts().min(),genres_df.status.value_counts().max()+10 ,10));"
   ]
  },
  {
   "cell_type": "markdown",
   "metadata": {
    "slideshow": {
     "slide_type": "slide"
    }
   },
   "source": [
    "- Lowest vote count is in Rumored status except Comdey movies, Comedy Movies vote count is lower in post production status.\n",
    "- The highest movies with vote_count are Action Movies in Planned status.\n",
    "- Planned status don't have Horror Movies!\n",
    "- Action Movies have the highest vote count in Planned and In-Production and Released status among other movies genres.\n"
   ]
  },
  {
   "cell_type": "markdown",
   "metadata": {
    "slideshow": {
     "slide_type": "slide"
    }
   },
   "source": [
    "# What is the highest Vote Average and in which status and in which movie genre?\n"
   ]
  },
  {
   "cell_type": "code",
   "execution_count": 96,
   "metadata": {
    "slideshow": {
     "slide_type": "subslide"
    }
   },
   "outputs": [
    {
     "data": {
      "image/png": "[encoded data removed]",
      "text/plain": [
       "<Figure size 2160x1152 with 1 Axes>"
      ]
     },
     "execution_count": 96,
     "metadata": {},
     "output_type": "execute_result"
    }
   ],
   "source": [
    "dxp.bar(x='status',\n",
    "        y='vote_average',\n",
    "        data=genres_df,\n",
    "        aggfunc='median',\n",
    "        split='genres',\n",
    "        title=\"Status | Vote Average(Median) | Genres\" ,\n",
    "        figsize=(15,8)\n",
    "       )\n",
    "#plt.figure(figsize=[ 11.69, 8.27])"
   ]
  },
  {
   "cell_type": "markdown",
   "metadata": {
    "slideshow": {
     "slide_type": "slide"
    }
   },
   "source": [
    "- Highest vote average are Comedy Movies in Planned status. (make sense to me)\n",
    "- No Action Movies in In-production and Post Production statues.\n",
    "- No Horror Movies in Planned status.\n",
    "- The highest vote average in Released status are Drama Movies, then Comedy, Action and Horror Movies comes at the end of the list."
   ]
  },
  {
   "cell_type": "markdown",
   "metadata": {
    "slideshow": {
     "slide_type": "skip"
    }
   },
   "source": [
    "## Genres, Vote average Distributions and Status.\n",
    "**We notice that Drama, Comedy and Action are the most movies with vote_average and most if not all movies are for all Released and tiny percentage are Rumored or in Post Production phase or in production or planned**"
   ]
  },
  {
   "cell_type": "code",
   "execution_count": 94,
   "metadata": {
    "slideshow": {
     "slide_type": "skip"
    }
   },
   "outputs": [
    {
     "data": {
      "image/png": "[encoded data removed]",
      "text/plain": [
       "<Figure size 1197.47x864 with 20 Axes>"
      ]
     },
     "metadata": {
      "needs_background": "light"
     },
     "output_type": "display_data"
    }
   ],
   "source": [
    "f1_year= sns.FacetGrid(data = df, col = 'genres',hue='status',col_wrap = 5)\n",
    "f1_year.map(plt.hist, 'vote_average', bins=np.arange(0,10+1,1)).add_legend(); \n",
    "plt.legend(fontsize=20);"
   ]
  },
  {
   "cell_type": "markdown",
   "metadata": {
    "slideshow": {
     "slide_type": "slide"
    }
   },
   "source": [
    "# Arabic Movies\n",
    "**As an Arabic, Egyptian citizen I'm interested in arabic movies, so I filtered the dataset based on original language (ar), I know most of the Egyptian movies and these are some master pieces in the film making production history in Egypt**\n",
    "\n",
    "- I got only 26 Arabic movies in the dataset, But I worked with it anyway. "
   ]
  },
  {
   "cell_type": "code",
   "execution_count": 60,
   "metadata": {
    "slideshow": {
     "slide_type": "subslide"
    }
   },
   "outputs": [
    {
     "data": {
      "text/html": [
       "<div>\n",
       "<style scoped>\n",
       "    .dataframe tbody tr th:only-of-type {\n",
       "        vertical-align: middle;\n",
       "    }\n",
       "\n",
       "    .dataframe tbody tr th {\n",
       "        vertical-align: top;\n",
       "    }\n",
       "\n",
       "    .dataframe thead th {\n",
       "        text-align: right;\n",
       "    }\n",
       "</style>\n",
       "<table border=\"1\" class=\"dataframe\">\n",
       "  <thead>\n",
       "    <tr style=\"text-align: right;\">\n",
       "      <th></th>\n",
       "      <th>adult</th>\n",
       "      <th>budget</th>\n",
       "      <th>genres</th>\n",
       "      <th>id</th>\n",
       "      <th>original_language</th>\n",
       "      <th>original_title</th>\n",
       "      <th>popularity</th>\n",
       "      <th>production_companies</th>\n",
       "      <th>production_countries</th>\n",
       "      <th>release_date</th>\n",
       "      <th>revenue</th>\n",
       "      <th>runtime</th>\n",
       "      <th>spoken_languages</th>\n",
       "      <th>status</th>\n",
       "      <th>video</th>\n",
       "      <th>vote_average</th>\n",
       "      <th>vote_count</th>\n",
       "      <th>years</th>\n",
       "      <th>profit</th>\n",
       "    </tr>\n",
       "  </thead>\n",
       "  <tbody>\n",
       "    <tr>\n",
       "      <th>125</th>\n",
       "      <td>False</td>\n",
       "      <td>0.0</td>\n",
       "      <td>Drama</td>\n",
       "      <td>44284</td>\n",
       "      <td>ar</td>\n",
       "      <td>صمت القصور</td>\n",
       "      <td>0.406754</td>\n",
       "      <td>Canal Horizons</td>\n",
       "      <td>Tunisia</td>\n",
       "      <td>1994-09-30</td>\n",
       "      <td>0.0</td>\n",
       "      <td>116.0</td>\n",
       "      <td>العربية</td>\n",
       "      <td>Released</td>\n",
       "      <td>False</td>\n",
       "      <td>4.3</td>\n",
       "      <td>3.0</td>\n",
       "      <td>1994</td>\n",
       "      <td>0.0</td>\n",
       "    </tr>\n",
       "    <tr>\n",
       "      <th>9104</th>\n",
       "      <td>False</td>\n",
       "      <td>0.0</td>\n",
       "      <td>Drama</td>\n",
       "      <td>37673</td>\n",
       "      <td>ar</td>\n",
       "      <td>المصير</td>\n",
       "      <td>0.395469</td>\n",
       "      <td>Ognon Pictures</td>\n",
       "      <td>Egypt</td>\n",
       "      <td>1997-05-09</td>\n",
       "      <td>0.0</td>\n",
       "      <td>135.0</td>\n",
       "      <td>العربية</td>\n",
       "      <td>Released</td>\n",
       "      <td>False</td>\n",
       "      <td>6.9</td>\n",
       "      <td>9.0</td>\n",
       "      <td>1997</td>\n",
       "      <td>0.0</td>\n",
       "    </tr>\n",
       "    <tr>\n",
       "      <th>12379</th>\n",
       "      <td>False</td>\n",
       "      <td>0.0</td>\n",
       "      <td>Drama</td>\n",
       "      <td>7973</td>\n",
       "      <td>ar</td>\n",
       "      <td>سكر بنات</td>\n",
       "      <td>4.882962</td>\n",
       "      <td>Bac Films</td>\n",
       "      <td>Lebanon</td>\n",
       "      <td>2007-07-01</td>\n",
       "      <td>0.0</td>\n",
       "      <td>96.0</td>\n",
       "      <td>Français</td>\n",
       "      <td>Released</td>\n",
       "      <td>False</td>\n",
       "      <td>6.8</td>\n",
       "      <td>53.0</td>\n",
       "      <td>2007</td>\n",
       "      <td>0.0</td>\n",
       "    </tr>\n",
       "    <tr>\n",
       "      <th>14646</th>\n",
       "      <td>False</td>\n",
       "      <td>0.0</td>\n",
       "      <td>Drama</td>\n",
       "      <td>44085</td>\n",
       "      <td>ar</td>\n",
       "      <td>عمارة يعقوبيان</td>\n",
       "      <td>0.719249</td>\n",
       "      <td>Good News</td>\n",
       "      <td>Egypt</td>\n",
       "      <td>2006-06-01</td>\n",
       "      <td>0.0</td>\n",
       "      <td>161.0</td>\n",
       "      <td>العربية</td>\n",
       "      <td>Released</td>\n",
       "      <td>False</td>\n",
       "      <td>6.8</td>\n",
       "      <td>14.0</td>\n",
       "      <td>2006</td>\n",
       "      <td>0.0</td>\n",
       "    </tr>\n",
       "    <tr>\n",
       "      <th>17145</th>\n",
       "      <td>False</td>\n",
       "      <td>0.0</td>\n",
       "      <td>Drama</td>\n",
       "      <td>56807</td>\n",
       "      <td>ar</td>\n",
       "      <td>Syn Babilonu</td>\n",
       "      <td>0.308648</td>\n",
       "      <td>UK Film Council</td>\n",
       "      <td>Iraq</td>\n",
       "      <td>2009-05-01</td>\n",
       "      <td>0.0</td>\n",
       "      <td>100.0</td>\n",
       "      <td>العربية</td>\n",
       "      <td>Released</td>\n",
       "      <td>False</td>\n",
       "      <td>7.7</td>\n",
       "      <td>6.0</td>\n",
       "      <td>2009</td>\n",
       "      <td>0.0</td>\n",
       "    </tr>\n",
       "    <tr>\n",
       "      <th>17563</th>\n",
       "      <td>False</td>\n",
       "      <td>0.0</td>\n",
       "      <td>Drama</td>\n",
       "      <td>47324</td>\n",
       "      <td>ar</td>\n",
       "      <td>باب الحديد</td>\n",
       "      <td>0.561462</td>\n",
       "      <td>Al-Ahramm Studios</td>\n",
       "      <td>Egypt</td>\n",
       "      <td>1958-07-31</td>\n",
       "      <td>0.0</td>\n",
       "      <td>77.0</td>\n",
       "      <td>العربية</td>\n",
       "      <td>Released</td>\n",
       "      <td>False</td>\n",
       "      <td>7.3</td>\n",
       "      <td>14.0</td>\n",
       "      <td>1958</td>\n",
       "      <td>0.0</td>\n",
       "    </tr>\n",
       "    <tr>\n",
       "      <th>18436</th>\n",
       "      <td>False</td>\n",
       "      <td>0.0</td>\n",
       "      <td>Drama</td>\n",
       "      <td>40939</td>\n",
       "      <td>ar</td>\n",
       "      <td>إسكندرية... ليه؟</td>\n",
       "      <td>0.036572</td>\n",
       "      <td>MISR International Films</td>\n",
       "      <td>Egypt</td>\n",
       "      <td>1979-10-06</td>\n",
       "      <td>0.0</td>\n",
       "      <td>133.0</td>\n",
       "      <td>العربية</td>\n",
       "      <td>Released</td>\n",
       "      <td>False</td>\n",
       "      <td>5.0</td>\n",
       "      <td>1.0</td>\n",
       "      <td>1979</td>\n",
       "      <td>0.0</td>\n",
       "    </tr>\n",
       "    <tr>\n",
       "      <th>18803</th>\n",
       "      <td>False</td>\n",
       "      <td>0.0</td>\n",
       "      <td>Drama</td>\n",
       "      <td>178535</td>\n",
       "      <td>ar</td>\n",
       "      <td>المخدوعون</td>\n",
       "      <td>0.016023</td>\n",
       "      <td>National Film Organization</td>\n",
       "      <td>Syrian Arab Republic</td>\n",
       "      <td>1973-07-01</td>\n",
       "      <td>0.0</td>\n",
       "      <td>107.0</td>\n",
       "      <td>العربية</td>\n",
       "      <td>Released</td>\n",
       "      <td>False</td>\n",
       "      <td>7.5</td>\n",
       "      <td>2.0</td>\n",
       "      <td>1973</td>\n",
       "      <td>0.0</td>\n",
       "    </tr>\n",
       "    <tr>\n",
       "      <th>20533</th>\n",
       "      <td>False</td>\n",
       "      <td>0.0</td>\n",
       "      <td>Drama</td>\n",
       "      <td>129112</td>\n",
       "      <td>ar</td>\n",
       "      <td>وجدة‎‎</td>\n",
       "      <td>5.451273</td>\n",
       "      <td>Razor Film Produktion GmbH</td>\n",
       "      <td>Saudi Arabia</td>\n",
       "      <td>2012-08-31</td>\n",
       "      <td>1347747.0</td>\n",
       "      <td>98.0</td>\n",
       "      <td>العربية</td>\n",
       "      <td>Released</td>\n",
       "      <td>False</td>\n",
       "      <td>7.2</td>\n",
       "      <td>125.0</td>\n",
       "      <td>2012</td>\n",
       "      <td>1347747.0</td>\n",
       "    </tr>\n",
       "    <tr>\n",
       "      <th>22536</th>\n",
       "      <td>False</td>\n",
       "      <td>0.0</td>\n",
       "      <td>Documentary</td>\n",
       "      <td>159037</td>\n",
       "      <td>ar</td>\n",
       "      <td>The Square</td>\n",
       "      <td>4.689168</td>\n",
       "      <td>Roast Beef Productions</td>\n",
       "      <td>United Kingdom</td>\n",
       "      <td>2013-06-07</td>\n",
       "      <td>0.0</td>\n",
       "      <td>88.0</td>\n",
       "      <td>العربية</td>\n",
       "      <td>Released</td>\n",
       "      <td>False</td>\n",
       "      <td>7.8</td>\n",
       "      <td>56.0</td>\n",
       "      <td>2013</td>\n",
       "      <td>0.0</td>\n",
       "    </tr>\n",
       "    <tr>\n",
       "      <th>22864</th>\n",
       "      <td>False</td>\n",
       "      <td>0.0</td>\n",
       "      <td>Thriller</td>\n",
       "      <td>187028</td>\n",
       "      <td>ar</td>\n",
       "      <td>عمر</td>\n",
       "      <td>0.190158</td>\n",
       "      <td>ZBROS</td>\n",
       "      <td>Palestinian Territory</td>\n",
       "      <td>2013-05-21</td>\n",
       "      <td>0.0</td>\n",
       "      <td>96.0</td>\n",
       "      <td>العربية</td>\n",
       "      <td>Released</td>\n",
       "      <td>False</td>\n",
       "      <td>7.1</td>\n",
       "      <td>59.0</td>\n",
       "      <td>2013</td>\n",
       "      <td>0.0</td>\n",
       "    </tr>\n",
       "    <tr>\n",
       "      <th>23372</th>\n",
       "      <td>False</td>\n",
       "      <td>200000.0</td>\n",
       "      <td>Documentary</td>\n",
       "      <td>215407</td>\n",
       "      <td>ar</td>\n",
       "      <td>El hal</td>\n",
       "      <td>0.717206</td>\n",
       "      <td>Ohra-Sogeav</td>\n",
       "      <td>Morocco</td>\n",
       "      <td>1981-10-03</td>\n",
       "      <td>0.0</td>\n",
       "      <td>90.0</td>\n",
       "      <td>العربية</td>\n",
       "      <td>Released</td>\n",
       "      <td>False</td>\n",
       "      <td>6.4</td>\n",
       "      <td>4.0</td>\n",
       "      <td>1981</td>\n",
       "      <td>-200000.0</td>\n",
       "    </tr>\n",
       "    <tr>\n",
       "      <th>23691</th>\n",
       "      <td>False</td>\n",
       "      <td>0.0</td>\n",
       "      <td>Drama</td>\n",
       "      <td>49104</td>\n",
       "      <td>ar</td>\n",
       "      <td>سجل اختفاء</td>\n",
       "      <td>0.361472</td>\n",
       "      <td>MEDIA Programme of the European Union</td>\n",
       "      <td>Palestinian Territory</td>\n",
       "      <td>1996-01-01</td>\n",
       "      <td>0.0</td>\n",
       "      <td>88.0</td>\n",
       "      <td>العربية</td>\n",
       "      <td>Released</td>\n",
       "      <td>False</td>\n",
       "      <td>6.0</td>\n",
       "      <td>2.0</td>\n",
       "      <td>1996</td>\n",
       "      <td>0.0</td>\n",
       "    </tr>\n",
       "    <tr>\n",
       "      <th>23965</th>\n",
       "      <td>False</td>\n",
       "      <td>0.0</td>\n",
       "      <td>Adventure</td>\n",
       "      <td>86997</td>\n",
       "      <td>ar</td>\n",
       "      <td>الرسالة‎</td>\n",
       "      <td>0.000308</td>\n",
       "      <td>Filmco International Productions</td>\n",
       "      <td>Libyan Arab Jamahiriya</td>\n",
       "      <td>1976-03-09</td>\n",
       "      <td>0.0</td>\n",
       "      <td>198.0</td>\n",
       "      <td>العربية</td>\n",
       "      <td>Released</td>\n",
       "      <td>False</td>\n",
       "      <td>7.6</td>\n",
       "      <td>11.0</td>\n",
       "      <td>1976</td>\n",
       "      <td>0.0</td>\n",
       "    </tr>\n",
       "    <tr>\n",
       "      <th>25940</th>\n",
       "      <td>False</td>\n",
       "      <td>0.0</td>\n",
       "      <td>Drama</td>\n",
       "      <td>137079</td>\n",
       "      <td>ar</td>\n",
       "      <td>الشتا إللى فات</td>\n",
       "      <td>0.542998</td>\n",
       "      <td>ZAD Communication &amp; Production</td>\n",
       "      <td>Egypt</td>\n",
       "      <td>2013-08-23</td>\n",
       "      <td>0.0</td>\n",
       "      <td>96.0</td>\n",
       "      <td>العربية</td>\n",
       "      <td>Released</td>\n",
       "      <td>False</td>\n",
       "      <td>5.0</td>\n",
       "      <td>1.0</td>\n",
       "      <td>2013</td>\n",
       "      <td>0.0</td>\n",
       "    </tr>\n",
       "    <tr>\n",
       "      <th>26712</th>\n",
       "      <td>False</td>\n",
       "      <td>0.0</td>\n",
       "      <td>Romance</td>\n",
       "      <td>199456</td>\n",
       "      <td>ar</td>\n",
       "      <td>صراع في الوادي</td>\n",
       "      <td>0.345954</td>\n",
       "      <td>Nile Cinema Company</td>\n",
       "      <td>Egypt</td>\n",
       "      <td>1954-03-01</td>\n",
       "      <td>0.0</td>\n",
       "      <td>105.0</td>\n",
       "      <td>العربية</td>\n",
       "      <td>Released</td>\n",
       "      <td>False</td>\n",
       "      <td>5.0</td>\n",
       "      <td>1.0</td>\n",
       "      <td>1954</td>\n",
       "      <td>0.0</td>\n",
       "    </tr>\n",
       "    <tr>\n",
       "      <th>28418</th>\n",
       "      <td>False</td>\n",
       "      <td>0.0</td>\n",
       "      <td>Drama</td>\n",
       "      <td>306293</td>\n",
       "      <td>ar</td>\n",
       "      <td>Zero</td>\n",
       "      <td>0.046416</td>\n",
       "      <td>Atalante\",</td>\n",
       "      <td>Morocco</td>\n",
       "      <td>2012-06-01</td>\n",
       "      <td>0.0</td>\n",
       "      <td>120.0</td>\n",
       "      <td>العربية</td>\n",
       "      <td>Released</td>\n",
       "      <td>False</td>\n",
       "      <td>8.0</td>\n",
       "      <td>1.0</td>\n",
       "      <td>2012</td>\n",
       "      <td>0.0</td>\n",
       "    </tr>\n",
       "    <tr>\n",
       "      <th>31950</th>\n",
       "      <td>False</td>\n",
       "      <td>3500000.0</td>\n",
       "      <td>Thriller</td>\n",
       "      <td>289510</td>\n",
       "      <td>ar</td>\n",
       "      <td>الفيل الأزرق</td>\n",
       "      <td>0.945722</td>\n",
       "      <td>Al Shorouk for Media Productions</td>\n",
       "      <td>Egypt</td>\n",
       "      <td>2014-07-28</td>\n",
       "      <td>0.0</td>\n",
       "      <td>170.0</td>\n",
       "      <td>العربية</td>\n",
       "      <td>Released</td>\n",
       "      <td>False</td>\n",
       "      <td>6.5</td>\n",
       "      <td>18.0</td>\n",
       "      <td>2014</td>\n",
       "      <td>-3500000.0</td>\n",
       "    </tr>\n",
       "    <tr>\n",
       "      <th>32358</th>\n",
       "      <td>False</td>\n",
       "      <td>0.0</td>\n",
       "      <td>Comedy</td>\n",
       "      <td>223566</td>\n",
       "      <td>ar</td>\n",
       "      <td>Ghadi</td>\n",
       "      <td>0.202644</td>\n",
       "      <td>The Talkies</td>\n",
       "      <td>Lebanon</td>\n",
       "      <td>2013-10-31</td>\n",
       "      <td>0.0</td>\n",
       "      <td>100.0</td>\n",
       "      <td>العربية</td>\n",
       "      <td>Released</td>\n",
       "      <td>False</td>\n",
       "      <td>8.7</td>\n",
       "      <td>3.0</td>\n",
       "      <td>2013</td>\n",
       "      <td>0.0</td>\n",
       "    </tr>\n",
       "    <tr>\n",
       "      <th>32501</th>\n",
       "      <td>False</td>\n",
       "      <td>0.0</td>\n",
       "      <td>Adventure</td>\n",
       "      <td>287628</td>\n",
       "      <td>ar</td>\n",
       "      <td>Theeb‎‎</td>\n",
       "      <td>2.469425</td>\n",
       "      <td>Immortal Entertainment</td>\n",
       "      <td>Jordan</td>\n",
       "      <td>2014-09-04</td>\n",
       "      <td>0.0</td>\n",
       "      <td>100.0</td>\n",
       "      <td>العربية</td>\n",
       "      <td>Released</td>\n",
       "      <td>False</td>\n",
       "      <td>6.6</td>\n",
       "      <td>64.0</td>\n",
       "      <td>2014</td>\n",
       "      <td>0.0</td>\n",
       "    </tr>\n",
       "    <tr>\n",
       "      <th>32633</th>\n",
       "      <td>False</td>\n",
       "      <td>0.0</td>\n",
       "      <td>Comedy</td>\n",
       "      <td>336655</td>\n",
       "      <td>ar</td>\n",
       "      <td>Dégradé</td>\n",
       "      <td>0.144933</td>\n",
       "      <td>Abbout Productions</td>\n",
       "      <td>Lebanon</td>\n",
       "      <td>2015-05-17</td>\n",
       "      <td>0.0</td>\n",
       "      <td>85.0</td>\n",
       "      <td>Français</td>\n",
       "      <td>Post Production</td>\n",
       "      <td>False</td>\n",
       "      <td>7.7</td>\n",
       "      <td>3.0</td>\n",
       "      <td>2015</td>\n",
       "      <td>0.0</td>\n",
       "    </tr>\n",
       "    <tr>\n",
       "      <th>33183</th>\n",
       "      <td>False</td>\n",
       "      <td>0.0</td>\n",
       "      <td>Drama</td>\n",
       "      <td>289039</td>\n",
       "      <td>ar</td>\n",
       "      <td>فتاة المصنع</td>\n",
       "      <td>0.477975</td>\n",
       "      <td>Dubai Media and Entertainment Organisation in ...</td>\n",
       "      <td>Egypt</td>\n",
       "      <td>2013-12-08</td>\n",
       "      <td>0.0</td>\n",
       "      <td>92.0</td>\n",
       "      <td>العربية</td>\n",
       "      <td>Released</td>\n",
       "      <td>False</td>\n",
       "      <td>6.5</td>\n",
       "      <td>2.0</td>\n",
       "      <td>2013</td>\n",
       "      <td>0.0</td>\n",
       "    </tr>\n",
       "    <tr>\n",
       "      <th>39682</th>\n",
       "      <td>False</td>\n",
       "      <td>0.0</td>\n",
       "      <td>Thriller</td>\n",
       "      <td>393184</td>\n",
       "      <td>ar</td>\n",
       "      <td>Eshtebak</td>\n",
       "      <td>1.319772</td>\n",
       "      <td>ARTE France Cinéma</td>\n",
       "      <td>Egypt</td>\n",
       "      <td>2016-07-27</td>\n",
       "      <td>0.0</td>\n",
       "      <td>97.0</td>\n",
       "      <td>العربية</td>\n",
       "      <td>Released</td>\n",
       "      <td>False</td>\n",
       "      <td>7.9</td>\n",
       "      <td>14.0</td>\n",
       "      <td>2016</td>\n",
       "      <td>0.0</td>\n",
       "    </tr>\n",
       "    <tr>\n",
       "      <th>41450</th>\n",
       "      <td>False</td>\n",
       "      <td>0.0</td>\n",
       "      <td>Drama</td>\n",
       "      <td>128250</td>\n",
       "      <td>ar</td>\n",
       "      <td>Lamma shoftak</td>\n",
       "      <td>0.125675</td>\n",
       "      <td>Philistine Films</td>\n",
       "      <td>United Arab Emirates</td>\n",
       "      <td>2014-06-06</td>\n",
       "      <td>0.0</td>\n",
       "      <td>93.0</td>\n",
       "      <td>English</td>\n",
       "      <td>Released</td>\n",
       "      <td>False</td>\n",
       "      <td>7.5</td>\n",
       "      <td>2.0</td>\n",
       "      <td>2014</td>\n",
       "      <td>0.0</td>\n",
       "    </tr>\n",
       "    <tr>\n",
       "      <th>42032</th>\n",
       "      <td>False</td>\n",
       "      <td>0.0</td>\n",
       "      <td>Documentary</td>\n",
       "      <td>416211</td>\n",
       "      <td>ar</td>\n",
       "      <td>The White Helmets</td>\n",
       "      <td>3.496528</td>\n",
       "      <td>Grain Media</td>\n",
       "      <td>United Kingdom</td>\n",
       "      <td>2016-09-16</td>\n",
       "      <td>0.0</td>\n",
       "      <td>40.0</td>\n",
       "      <td>العربية</td>\n",
       "      <td>Released</td>\n",
       "      <td>False</td>\n",
       "      <td>7.9</td>\n",
       "      <td>56.0</td>\n",
       "      <td>2016</td>\n",
       "      <td>0.0</td>\n",
       "    </tr>\n",
       "    <tr>\n",
       "      <th>44379</th>\n",
       "      <td>False</td>\n",
       "      <td>0.0</td>\n",
       "      <td>Drama</td>\n",
       "      <td>49168</td>\n",
       "      <td>ar</td>\n",
       "      <td>Urs al-Jalil</td>\n",
       "      <td>0.000308</td>\n",
       "      <td>Zweites Deutsches Fernsehen (ZDF)</td>\n",
       "      <td>Palestinian Territory</td>\n",
       "      <td>1988-01-01</td>\n",
       "      <td>0.0</td>\n",
       "      <td>100.0</td>\n",
       "      <td>العربية</td>\n",
       "      <td>Released</td>\n",
       "      <td>False</td>\n",
       "      <td>5.5</td>\n",
       "      <td>4.0</td>\n",
       "      <td>1988</td>\n",
       "      <td>0.0</td>\n",
       "    </tr>\n",
       "  </tbody>\n",
       "</table>\n",
       "</div>"
      ],
      "text/plain": [
       "       adult     budget       genres      id original_language  \\\n",
       "125    False        0.0        Drama   44284                ar   \n",
       "9104   False        0.0        Drama   37673                ar   \n",
       "12379  False        0.0        Drama    7973                ar   \n",
       "14646  False        0.0        Drama   44085                ar   \n",
       "17145  False        0.0        Drama   56807                ar   \n",
       "17563  False        0.0        Drama   47324                ar   \n",
       "18436  False        0.0        Drama   40939                ar   \n",
       "18803  False        0.0        Drama  178535                ar   \n",
       "20533  False        0.0        Drama  129112                ar   \n",
       "22536  False        0.0  Documentary  159037                ar   \n",
       "22864  False        0.0     Thriller  187028                ar   \n",
       "23372  False   200000.0  Documentary  215407                ar   \n",
       "23691  False        0.0        Drama   49104                ar   \n",
       "23965  False        0.0    Adventure   86997                ar   \n",
       "25940  False        0.0        Drama  137079                ar   \n",
       "26712  False        0.0      Romance  199456                ar   \n",
       "28418  False        0.0        Drama  306293                ar   \n",
       "31950  False  3500000.0     Thriller  289510                ar   \n",
       "32358  False        0.0       Comedy  223566                ar   \n",
       "32501  False        0.0    Adventure  287628                ar   \n",
       "32633  False        0.0       Comedy  336655                ar   \n",
       "33183  False        0.0        Drama  289039                ar   \n",
       "39682  False        0.0     Thriller  393184                ar   \n",
       "41450  False        0.0        Drama  128250                ar   \n",
       "42032  False        0.0  Documentary  416211                ar   \n",
       "44379  False        0.0        Drama   49168                ar   \n",
       "\n",
       "          original_title  popularity  \\\n",
       "125           صمت القصور    0.406754   \n",
       "9104              المصير    0.395469   \n",
       "12379           سكر بنات    4.882962   \n",
       "14646     عمارة يعقوبيان    0.719249   \n",
       "17145       Syn Babilonu    0.308648   \n",
       "17563         باب الحديد    0.561462   \n",
       "18436   إسكندرية... ليه؟    0.036572   \n",
       "18803          المخدوعون    0.016023   \n",
       "20533             وجدة‎‎    5.451273   \n",
       "22536         The Square    4.689168   \n",
       "22864                عمر    0.190158   \n",
       "23372             El hal    0.717206   \n",
       "23691         سجل اختفاء    0.361472   \n",
       "23965           الرسالة‎    0.000308   \n",
       "25940     الشتا إللى فات    0.542998   \n",
       "26712     صراع في الوادي    0.345954   \n",
       "28418               Zero    0.046416   \n",
       "31950       الفيل الأزرق    0.945722   \n",
       "32358              Ghadi    0.202644   \n",
       "32501            Theeb‎‎    2.469425   \n",
       "32633            Dégradé    0.144933   \n",
       "33183        فتاة المصنع    0.477975   \n",
       "39682           Eshtebak    1.319772   \n",
       "41450      Lamma shoftak    0.125675   \n",
       "42032  The White Helmets    3.496528   \n",
       "44379       Urs al-Jalil    0.000308   \n",
       "\n",
       "                                    production_companies  \\\n",
       "125                                       Canal Horizons   \n",
       "9104                                      Ognon Pictures   \n",
       "12379                                          Bac Films   \n",
       "14646                                          Good News   \n",
       "17145                                    UK Film Council   \n",
       "17563                                  Al-Ahramm Studios   \n",
       "18436                           MISR International Films   \n",
       "18803                         National Film Organization   \n",
       "20533                         Razor Film Produktion GmbH   \n",
       "22536                             Roast Beef Productions   \n",
       "22864                                              ZBROS   \n",
       "23372                                        Ohra-Sogeav   \n",
       "23691              MEDIA Programme of the European Union   \n",
       "23965                   Filmco International Productions   \n",
       "25940                     ZAD Communication & Production   \n",
       "26712                                Nile Cinema Company   \n",
       "28418                                        Atalante\",    \n",
       "31950                   Al Shorouk for Media Productions   \n",
       "32358                                        The Talkies   \n",
       "32501                             Immortal Entertainment   \n",
       "32633                                 Abbout Productions   \n",
       "33183  Dubai Media and Entertainment Organisation in ...   \n",
       "39682                                 ARTE France Cinéma   \n",
       "41450                                   Philistine Films   \n",
       "42032                                        Grain Media   \n",
       "44379                  Zweites Deutsches Fernsehen (ZDF)   \n",
       "\n",
       "         production_countries release_date    revenue  runtime  \\\n",
       "125                   Tunisia   1994-09-30        0.0    116.0   \n",
       "9104                    Egypt   1997-05-09        0.0    135.0   \n",
       "12379                 Lebanon   2007-07-01        0.0     96.0   \n",
       "14646                   Egypt   2006-06-01        0.0    161.0   \n",
       "17145                    Iraq   2009-05-01        0.0    100.0   \n",
       "17563                   Egypt   1958-07-31        0.0     77.0   \n",
       "18436                   Egypt   1979-10-06        0.0    133.0   \n",
       "18803    Syrian Arab Republic   1973-07-01        0.0    107.0   \n",
       "20533            Saudi Arabia   2012-08-31  1347747.0     98.0   \n",
       "22536          United Kingdom   2013-06-07        0.0     88.0   \n",
       "22864   Palestinian Territory   2013-05-21        0.0     96.0   \n",
       "23372                 Morocco   1981-10-03        0.0     90.0   \n",
       "23691   Palestinian Territory   1996-01-01        0.0     88.0   \n",
       "23965  Libyan Arab Jamahiriya   1976-03-09        0.0    198.0   \n",
       "25940                   Egypt   2013-08-23        0.0     96.0   \n",
       "26712                   Egypt   1954-03-01        0.0    105.0   \n",
       "28418                 Morocco   2012-06-01        0.0    120.0   \n",
       "31950                   Egypt   2014-07-28        0.0    170.0   \n",
       "32358                 Lebanon   2013-10-31        0.0    100.0   \n",
       "32501                  Jordan   2014-09-04        0.0    100.0   \n",
       "32633                 Lebanon   2015-05-17        0.0     85.0   \n",
       "33183                   Egypt   2013-12-08        0.0     92.0   \n",
       "39682                   Egypt   2016-07-27        0.0     97.0   \n",
       "41450    United Arab Emirates   2014-06-06        0.0     93.0   \n",
       "42032          United Kingdom   2016-09-16        0.0     40.0   \n",
       "44379   Palestinian Territory   1988-01-01        0.0    100.0   \n",
       "\n",
       "      spoken_languages           status  video  vote_average  vote_count  \\\n",
       "125            العربية         Released  False           4.3         3.0   \n",
       "9104           العربية         Released  False           6.9         9.0   \n",
       "12379         Français         Released  False           6.8        53.0   \n",
       "14646          العربية         Released  False           6.8        14.0   \n",
       "17145          العربية         Released  False           7.7         6.0   \n",
       "17563          العربية         Released  False           7.3        14.0   \n",
       "18436          العربية         Released  False           5.0         1.0   \n",
       "18803          العربية         Released  False           7.5         2.0   \n",
       "20533          العربية         Released  False           7.2       125.0   \n",
       "22536          العربية         Released  False           7.8        56.0   \n",
       "22864          العربية         Released  False           7.1        59.0   \n",
       "23372          العربية         Released  False           6.4         4.0   \n",
       "23691          العربية         Released  False           6.0         2.0   \n",
       "23965          العربية         Released  False           7.6        11.0   \n",
       "25940          العربية         Released  False           5.0         1.0   \n",
       "26712          العربية         Released  False           5.0         1.0   \n",
       "28418          العربية         Released  False           8.0         1.0   \n",
       "31950          العربية         Released  False           6.5        18.0   \n",
       "32358          العربية         Released  False           8.7         3.0   \n",
       "32501          العربية         Released  False           6.6        64.0   \n",
       "32633         Français  Post Production  False           7.7         3.0   \n",
       "33183          العربية         Released  False           6.5         2.0   \n",
       "39682          العربية         Released  False           7.9        14.0   \n",
       "41450          English         Released  False           7.5         2.0   \n",
       "42032          العربية         Released  False           7.9        56.0   \n",
       "44379          العربية         Released  False           5.5         4.0   \n",
       "\n",
       "       years     profit  \n",
       "125     1994        0.0  \n",
       "9104    1997        0.0  \n",
       "12379   2007        0.0  \n",
       "14646   2006        0.0  \n",
       "17145   2009        0.0  \n",
       "17563   1958        0.0  \n",
       "18436   1979        0.0  \n",
       "18803   1973        0.0  \n",
       "20533   2012  1347747.0  \n",
       "22536   2013        0.0  \n",
       "22864   2013        0.0  \n",
       "23372   1981  -200000.0  \n",
       "23691   1996        0.0  \n",
       "23965   1976        0.0  \n",
       "25940   2013        0.0  \n",
       "26712   1954        0.0  \n",
       "28418   2012        0.0  \n",
       "31950   2014 -3500000.0  \n",
       "32358   2013        0.0  \n",
       "32501   2014        0.0  \n",
       "32633   2015        0.0  \n",
       "33183   2013        0.0  \n",
       "39682   2016        0.0  \n",
       "41450   2014        0.0  \n",
       "42032   2016        0.0  \n",
       "44379   1988        0.0  "
      ]
     },
     "execution_count": 60,
     "metadata": {},
     "output_type": "execute_result"
    }
   ],
   "source": [
    "arabic_movies=df[df.original_language=='ar'].drop(42802) # Deleting Isralian movie cause there's no such a place. \n",
    "arabic_movies"
   ]
  },
  {
   "cell_type": "code",
   "execution_count": 61,
   "metadata": {
    "slideshow": {
     "slide_type": "skip"
    }
   },
   "outputs": [
    {
     "data": {
      "text/plain": [
       "Egypt                     9\n",
       "Palestinian Territory     3\n",
       "Lebanon                   3\n",
       "Morocco                   2\n",
       "United Kingdom            2\n",
       "Tunisia                   1\n",
       "Syrian Arab Republic      1\n",
       "Libyan Arab Jamahiriya    1\n",
       "United Arab Emirates      1\n",
       "Jordan                    1\n",
       "Saudi Arabia              1\n",
       "Iraq                      1\n",
       "Name: production_countries, dtype: int64"
      ]
     },
     "execution_count": 61,
     "metadata": {},
     "output_type": "execute_result"
    }
   ],
   "source": [
    "arabic_movies.production_countries.value_counts()"
   ]
  },
  {
   "cell_type": "markdown",
   "metadata": {
    "slideshow": {
     "slide_type": "slide"
    }
   },
   "source": [
    "# What is the most productive Arabic country ? (Most frequent country)\n",
    "# What is the country of the highest vote count in Arabic countries?\n",
    "# What is the country of the highest vote Average in Arabic countries?\n"
   ]
  },
  {
   "cell_type": "code",
   "execution_count": 91,
   "metadata": {
    "slideshow": {
     "slide_type": "subslide"
    }
   },
   "outputs": [
    {
     "data": {
      "text/plain": [
       "<Figure size 841.68x595.44 with 0 Axes>"
      ]
     },
     "metadata": {},
     "output_type": "display_data"
    },
    {
     "data": {
      "image/png": "[encoded data removed]",
      "text/plain": [
       "<Figure size 514.475x360 with 1 Axes>"
      ]
     },
     "metadata": {
      "needs_background": "light"
     },
     "output_type": "display_data"
    }
   ],
   "source": [
    "plt.figure(figsize=[ 11.69, 8.27]);\n",
    "sns.relplot(x=\"vote_average\", y=\"vote_count\", size=\"genres\",hue=\"production_countries\", data=arabic_movies);\n",
    "sns.set(rc={'figure.figsize':(15,8.27)})\n",
    "plt.title(\"Vote avg |Vote count |Production countries |Genres \");"
   ]
  },
  {
   "cell_type": "markdown",
   "metadata": {
    "slideshow": {
     "slide_type": "slide"
    }
   },
   "source": [
    "### Egypt ( My country YAY ) is the most productive country in this subset \n",
    "\n",
    "**Seems like Egypt and Lebanon are the most two productive countries which their movies original language is Arabic **\n",
    "\n",
    "- Wow! There were some British production companies produced Arabic Movies\n",
    "- the highest vote average among Arabic movies goes to a Lebanon movie (Comedy Movie)\n",
    "- the highest vote count among Arabic movies goes to Saudi Arabian movie (Drama)"
   ]
  },
  {
   "cell_type": "markdown",
   "metadata": {
    "slideshow": {
     "slide_type": "slide"
    }
   },
   "source": [
    "# Key insights:\n",
    "\n",
    "- Most of Movies in the Dataset are Released, We have so much less info about other movies in other phases of production.\n",
    "\n",
    "- Most common movies genres are Drama, Comedy, Action and Horror, it was surprising to me that Animation movies isn't that popular !\n",
    "\n",
    "- Comedy movies are highly voted, but in Released phase Drama movies got  the highest vote average.\n",
    "\n",
    "- US has the biggest numbers of production companies and number of movies produced.\n",
    "\n",
    "- Having a lot of production companies in one country doesn't mean it has a lot of movies being produced, as we saw with Japan and Spain.\n",
    "\n",
    "- There is a high correlation in Budget, Revenue, and profit. \"if u spend a lot u will gain a lot\"\n",
    "\n",
    "- Budget and Revenue and Profit all have an upward trend among years, seems like production companies put a lot of money in Movies industry and it is getting bigger through years\n",
    "\n",
    "### Arabic Movies insights:\n",
    "  - Surprisingly! some Arabic Movies are produced by British companies.\n",
    "  - Egypt is the most producing Arabic country for movies in this Dataset. "
   ]
  }
 ],
 "metadata": {
  "celltoolbar": "Slideshow",
  "kernelspec": {
   "display_name": "Python 3",
   "language": "python",
   "name": "python3"
  },
  "language_info": {
   "codemirror_mode": {
    "name": "ipython",
    "version": 3
   },
   "file_extension": ".py",
   "mimetype": "text/x-python",
   "name": "python",
   "nbconvert_exporter": "python",
   "pygments_lexer": "ipython3",
   "version": "3.6.5"
  }
 },
 "nbformat": 4,
 "nbformat_minor": 2
}
